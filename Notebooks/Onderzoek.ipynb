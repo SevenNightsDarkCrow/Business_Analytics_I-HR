{
 "cells": [
  {
   "cell_type": "markdown",
   "metadata": {},
   "source": [
    "# Business Understanding\n",
    "De organisatie wilt graag inzicht verkrijgen in hun werknemersverloop (attrition). Er zijn meerdere databronnen beschikbaar gesteld in de vorm van CSV-bestanden. De variabelen uit deze bestanden zullen worden geanalyseerd, waaruit een aantal relevante variabelen geselecteerd worden voor een voorspellend model. Voor de scope en richting van het onderzoek zijn onderstaand een tweetal doelstellingen beschreven.\n",
    "\n",
    "* Inzicht krijgen in welke variabelen een relatie met elkaar hebben\n",
    "* Een voorspellend model bouwen om werknemersverloop te minderen\n",
    "\n",
    "Tegelijkertijd zal het onderzoek een succes zijn als:\n",
    "\n",
    "* De organisatie preventief kan handelen om werknemersverloop te minderen"
   ]
  },
  {
   "cell_type": "code",
   "execution_count": 64,
   "metadata": {},
   "outputs": [],
   "source": [
    "# Importeren van de benodigde libraries\n",
    "import pandas as pd\n",
    "import numpy as np\n",
    "import matplotlib.pyplot as plt\n",
    "import seaborn as sns\n",
    "import scipy.stats as stats\n",
    "from datetime import datetime\n",
    "from sklearn.preprocessing import StandardScaler\n"
   ]
  },
  {
   "cell_type": "markdown",
   "metadata": {},
   "source": [
    "# Data Understanding\n",
    "De aangeleverde data komen uit twee verschillende bronnen; vanuit HR (bestaand) en enquêtes (additioneel). Tevens is een data dictionary meegeleverd, zodat uniforme definities gehanteerd worden. Onderstaand een beknopte opsomming van de data.\n",
    "\n",
    "* Standaard HR-data waarin belangrijke werknemers data (anoniem) staat\n",
    "* Tweemaal enquête data; één van de werknemers en één van de managers\n",
    "* Kloktijden met de start en eind timestamps van de shifts\n",
    "\n",
    "### Definities van de variabelen\n",
    "\n",
    "| Variabel                 | Omschrijving                                       | Niveau |\n",
    "| ------------------------ | -------------------------------------------------- | ------ |\n",
    "| Age                      | Leeftijd werknemer                                 |        |\n",
    "| Attrition                | De werknemer is vorig jaar weggegaan               |        |\n",
    "| BusinessTravel           | Frequentie van zakelijke reizen afgelopen jaar     |        |\n",
    "| Department               | Afdeling binnen het bedrijf                        |        |\n",
    "| DistanceFromHome         | Afstand vanaf huis in kilometers (km's)            |        |\n",
    "| Education                | Educatie niveau                                    | 1. Below college <br> 2. College <br> 3. Bachelor <br> 4. Master <br> 5. Doctor |\n",
    "| EducationField           | Educatie vakgebied                                 |        |\n",
    "| EmployeeCount            | Aantal werknemers                                  |        |\n",
    "| EmployeeNumber           | Unieke werknemersnummer (ID)                       |        |\n",
    "| EnvironmentSatisfaction  | Tevredenheidsniveau van de werkomgeving            | 1. Low <br> 2. Medium <br> 3. High <br> 4. Very High |\n",
    "| Gender                   | Geslacht                                           |        |\n",
    "| JobInvolvement           | Niveau van aansluiting tussen werknemer en functie | 1. Low <br> 2. Medium <br> 3. High <br> 4. Very High |\n",
    "| JobLevel                 | Niveau van functie binnen de organisatie           |        |\n",
    "| JobRole                  | Naam functie                                       |        |\n",
    "| JobSatisfaction          | Tevredenheidsniveau over werk                      | 1. Low <br> 2. Medium <br> 3. High <br> 4. Very High |\n",
    "| MaritalStatus            | Burgelijke staat                                   |        |\n",
    "| MonthlyIncome            | Maandelijk inkomen in roepies (valuta India)       |        |\n",
    "| NumCompaniesWorked       | Totaal aantal werkgevers van werknemer             |        |\n",
    "| Over18                   | Of de werknemer boven de 18 is of niet             |        |\n",
    "| PercentSalaryHike        | Procentuele salarisverhoging afgelopen jaar        |        |\n",
    "| PerformanceRating        | Resultaatbeoordeling afgelopen jaar                | 1. Low <br> 2. Good <br> 3. Excellent <br> 4. Outstanding |\n",
    "| RelationshipSatisfaction | Tevredenheidsniveau van relatie                    | 1. Low <br> 2. Medium <br> 3. High <br> 4. Very High |\n",
    "| StandardHours            | Standaard werkuren van werknemer                   |        |\n",
    "| StockOptionLevel         | Aandelenniveau van werknemer                       |        |\n",
    "| TotalWorkingYears        | Totaal aantal werkjaren van werknemer              |        |\n",
    "| TrainingTimesLastYear    | Aantal training voor werknemer afgelopen jaar      |        |\n",
    "| WorkLifeBalance          | Niveau van werk/privé balans                       | 1. Bad <br> 2. Good <br> 3. Better <br> 4. Best |\n",
    "| YearsAtCompany           | Totaal aantal werkjaren bij de organisatie         |        |\n",
    "| YearsSinceLastPromotion  | Aantal jaren sinds laatste promotie                |        |\n",
    "| YearsWithCurrentManager  | Aantal jaar onder huidige manager                  |        |"
   ]
  },
  {
   "cell_type": "code",
   "execution_count": 45,
   "metadata": {},
   "outputs": [],
   "source": [
    "# Data inlezen\n",
    "employee_survey_data = pd.read_csv('employee_survey_data.csv')\n",
    "general_data = pd.read_csv('general_data.csv')\n",
    "manager_survey_data = pd.read_csv('manager_survey_data.csv')\n",
    "in_time = pd.read_csv('in_time.csv')\n",
    "out_time = pd.read_csv('out_time.csv')\n",
    "\n",
    "# Kolomnamen aanpassen\n",
    "in_time.rename(columns={in_time.columns[0]: 'EmployeeID'}, inplace=True)\n",
    "out_time.rename(columns={out_time.columns[0]: 'EmployeeID'}, inplace=True)\n",
    "\n",
    "# Data samenvoegen\n",
    "data = pd.merge(general_data, employee_survey_data, on='EmployeeID')\n",
    "data = pd.merge(data, manager_survey_data, on='EmployeeID')"
   ]
  },
  {
   "cell_type": "code",
   "execution_count": 63,
   "metadata": {},
   "outputs": [
    {
     "name": "stdout",
     "output_type": "stream",
     "text": [
      "   EmployeeID  2015-01-01 2015-01-02 2015-01-05 2015-01-06 2015-01-07  \\\n",
      "0           1         NaN   09:43:45   10:08:48   09:54:26   09:34:31   \n",
      "1           2         NaN   10:15:44   10:21:05        NaN   09:45:17   \n",
      "2           3         NaN   10:17:41   09:50:50   10:14:13   09:47:27   \n",
      "3           4         NaN   10:05:06   09:56:32   10:11:07   09:37:30   \n",
      "4           5         NaN   10:28:17   09:49:58   09:45:28   09:49:37   \n",
      "\n",
      "  2015-01-08 2015-01-09 2015-01-12 2015-01-13  ...  2015-12-18 2015-12-21  \\\n",
      "0   09:51:09   10:09:25   09:42:53   10:13:06  ...         NaN   09:55:29   \n",
      "1   10:09:04   09:43:26   10:00:07   10:43:29  ...    10:37:17   09:49:02   \n",
      "2   10:03:40   10:05:49   10:03:47   10:21:26  ...    10:15:14   10:10:28   \n",
      "3   10:02:08   10:08:12   10:13:42   09:53:22  ...    10:17:38   09:58:21   \n",
      "4   10:19:44   10:00:50   10:29:27   09:59:32  ...    09:58:35   10:03:41   \n",
      "\n",
      "  2015-12-22 2015-12-23 2015-12-24 2015-12-25 2015-12-28 2015-12-29  \\\n",
      "0   10:04:06   10:14:27   10:11:35        NaN   10:13:41   10:03:36   \n",
      "1   10:33:51   10:12:10        NaN        NaN   09:31:45   09:55:49   \n",
      "2   09:44:44   10:15:54   10:07:26        NaN   09:42:05   09:43:36   \n",
      "3   10:04:25   10:11:46   09:43:15        NaN   09:52:44   09:33:16   \n",
      "4   10:10:30   10:13:36   09:44:24        NaN   10:05:15   10:30:53   \n",
      "\n",
      "   2015-12-30 2015-12-31  \n",
      "0    09:54:12   10:12:44  \n",
      "1    10:32:25   09:27:20  \n",
      "2    09:34:05   10:28:39  \n",
      "3    10:18:12   10:01:15  \n",
      "4    09:18:21   09:41:09  \n",
      "\n",
      "[5 rows x 262 columns]\n"
     ]
    }
   ],
   "source": [
    "# Kloktijden omzetten naar datetime\n",
    "if 'Time' in in_time.columns:\n",
    "    in_time['Time'] = pd.to_datetime(in_time['Time'], format='%d-%m-%Y %H:%M:%S')\n",
    "if 'Time' in out_time.columns:\n",
    "    out_time['Time'] = pd.to_datetime(out_time['Time'], format='%d-%m-%Y %H:%M:%S')\n",
    "\n",
    "print(in_time.head())"
   ]
  },
  {
   "cell_type": "markdown",
   "metadata": {},
   "source": [
    "### Belangrijke overwegingen\n",
    "\n",
    "1. De vijf CSV-bestanden bevatten de unieke werknemers-ID in de eerste kolom voor het samenvoegen van de data\n",
    "2. "
   ]
  }
 ],
 "metadata": {
  "kernelspec": {
   "display_name": "Python 3",
   "language": "python",
   "name": "python3"
  },
  "language_info": {
   "codemirror_mode": {
    "name": "ipython",
    "version": 3
   },
   "file_extension": ".py",
   "mimetype": "text/x-python",
   "name": "python",
   "nbconvert_exporter": "python",
   "pygments_lexer": "ipython3",
   "version": "3.12.3"
  }
 },
 "nbformat": 4,
 "nbformat_minor": 2
}
