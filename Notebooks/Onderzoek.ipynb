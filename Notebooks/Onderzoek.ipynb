{
 "cells": [
  {
   "cell_type": "markdown",
   "metadata": {},
   "source": [
    "# Business Understanding\n",
    "De organisatie wilt graag inzicht verkrijgen in hun werknemersverloop (attrition). Gezien de scope van de opdracht is het lastig om de motivatie van de organisatie te begrijpen. Er wordt een aanname gedaan dat de organisatie kampt met hoge (on)kosten door het werknemersverloop en zij willen graag preventief kunnen handelen om werknemers te behouden. Ze vragen zich af of de kosten lager kunnen zijn door te investeren op werknemersretentie in plaats van te besteden aan recruitment. De organisatie heeft nog geen oplossing naast het werven van nieuwe werknemers.\n",
    "\n",
    "Er zijn meerdere databronnen beschikbaar gesteld in de vorm van CSV-bestanden. De variabelen uit deze bestanden zullen worden geanalyseerd, waaruit een aantal relevante variabelen geselecteerd worden voor een voorspellend model. Voor de scope en richting van het onderzoek zijn onderstaand een tweetal doelstellingen beschreven.\n",
    "\n",
    "* Inzicht krijgen in welke variabelen een relatie vormen die werknemersverloop beïnvloeden\n",
    "* Een model bouwen om werknemersverloop te voorspellen\n",
    "\n",
    "Tegelijkertijd zal het onderzoek een succes zijn als:\n",
    "\n",
    "* De organisatie preventief kan handelen om werknemersverloop te minderen\n",
    "* Kosten verlaagd kunnen worden, die veroorzaakt worden door werknemersverloop"
   ]
  },
  {
   "cell_type": "code",
   "execution_count": 163,
   "metadata": {},
   "outputs": [],
   "source": [
    "# Importeren van de benodigde libraries\n",
    "import pandas as pd\n",
    "from pandas.api.types import CategoricalDtype\n",
    "import numpy as np\n",
    "import matplotlib.pyplot as plt\n",
    "import seaborn as sns"
   ]
  },
  {
   "cell_type": "markdown",
   "metadata": {},
   "source": [
    "# Data Understanding\n",
    "De aangeleverde data komen uit twee verschillende bronnen; vanuit HR (bestaand) en enquêtes (additioneel). Tevens is een data dictionary meegeleverd, zodat uniforme definities gehanteerd worden. Onderstaand een beknopte opsomming van de data.\n",
    "\n",
    "* Standaard HR-data waarin belangrijke werknemers data (anoniem) staat\n",
    "* Tweemaal enquête data; één vanuit de werknemers en één vanuit de managers\n",
    "* Kloktijden met de start en eind timestamps van de shifts\n",
    "\n",
    "## Definities van de variabelen\n",
    "\n",
    "| Variabel                 | Omschrijving                                       | Niveau |\n",
    "| ------------------------ | -------------------------------------------------- | ------ |\n",
    "| Age                      | Leeftijd werknemer                                 |        |\n",
    "| Attrition                | De werknemer is vorig jaar weggegaan               |        |\n",
    "| BusinessTravel           | Frequentie van zakelijke reizen afgelopen jaar     |        |\n",
    "| Department               | Afdeling binnen het bedrijf                        |        |\n",
    "| DistanceFromHome         | Afstand vanaf huis in kilometers (km's)            |        |\n",
    "| Education                | Educatie niveau                                    | 1. Below college <br> 2. College <br> 3. Bachelor <br> 4. Master <br> 5. Doctor |\n",
    "| EducationField           | Educatie vakgebied                                 |        |\n",
    "| EmployeeCount            | Aantal werknemers                                  |        |\n",
    "| EmployeeNumber           | Unieke werknemersnummer (ID)                       |        |\n",
    "| EnvironmentSatisfaction  | Tevredenheidsniveau van de werkomgeving            | 1. Low <br> 2. Medium <br> 3. High <br> 4. Very High |\n",
    "| Gender                   | Geslacht                                           |        |\n",
    "| JobInvolvement           | Niveau van aansluiting tussen werknemer en functie | 1. Low <br> 2. Medium <br> 3. High <br> 4. Very High |\n",
    "| JobLevel                 | Niveau van functie binnen de organisatie           |        |\n",
    "| JobRole                  | Naam functie                                       |        |\n",
    "| JobSatisfaction          | Tevredenheidsniveau over werk                      | 1. Low <br> 2. Medium <br> 3. High <br> 4. Very High |\n",
    "| MaritalStatus            | Burgelijke staat                                   |        |\n",
    "| MonthlyIncome            | Maandelijk inkomen in roepies (valuta India)       |        |\n",
    "| NumCompaniesWorked       | Totaal aantal werkgevers van werknemer             |        |\n",
    "| Over18                   | Of de werknemer boven de 18 is of niet             |        |\n",
    "| PercentSalaryHike        | Procentuele salarisverhoging afgelopen jaar        |        |\n",
    "| PerformanceRating        | Resultaatbeoordeling afgelopen jaar                | 1. Low <br> 2. Good <br> 3. Excellent <br> 4. Outstanding |\n",
    "| RelationshipSatisfaction | Tevredenheidsniveau van relatie                    | 1. Low <br> 2. Medium <br> 3. High <br> 4. Very High |\n",
    "| StandardHours            | Standaard werkuren van werknemer                   |        |\n",
    "| StockOptionLevel         | Aandelenniveau van werknemer                       |        |\n",
    "| TotalWorkingYears        | Totaal aantal werkjaren van werknemer              |        |\n",
    "| TrainingTimesLastYear    | Aantal training voor werknemer afgelopen jaar      |        |\n",
    "| WorkLifeBalance          | Niveau van werk/privé balans                       | 1. Bad <br> 2. Good <br> 3. Better <br> 4. Best |\n",
    "| YearsAtCompany           | Totaal aantal werkjaren bij de organisatie         |        |\n",
    "| YearsSinceLastPromotion  | Aantal jaren sinds laatste promotie                |        |\n",
    "| YearsWithCurrentManager  | Aantal jaar onder huidige manager                  |        |"
   ]
  },
  {
   "cell_type": "code",
   "execution_count": 164,
   "metadata": {},
   "outputs": [],
   "source": [
    "# Data inlezen\n",
    "employee_survey_data = pd.read_csv('employee_survey_data.csv')\n",
    "general_data = pd.read_csv('general_data.csv')\n",
    "manager_survey_data = pd.read_csv('manager_survey_data.csv')\n",
    "in_time = pd.read_csv('in_time.csv')\n",
    "out_time = pd.read_csv('out_time.csv')\n",
    "\n",
    "# Data samenvoegen\n",
    "data = pd.merge(\n",
    "    general_data,\n",
    "    employee_survey_data,\n",
    "    on='EmployeeID'\n",
    "    )\n",
    "\n",
    "data = pd.merge(data,\n",
    "                manager_survey_data,\n",
    "                on='EmployeeID'\n",
    "                )"
   ]
  },
  {
   "cell_type": "markdown",
   "metadata": {},
   "source": [
    "## Exploreren van de data\n",
    "\n",
    "Het exploreren van de data is per set onder elkaar gedaan om verwarring te verkomen.\n",
    "\n",
    "### general_data"
   ]
  },
  {
   "cell_type": "code",
   "execution_count": 165,
   "metadata": {},
   "outputs": [
    {
     "data": {
      "text/html": [
       "<div>\n",
       "<style scoped>\n",
       "    .dataframe tbody tr th:only-of-type {\n",
       "        vertical-align: middle;\n",
       "    }\n",
       "\n",
       "    .dataframe tbody tr th {\n",
       "        vertical-align: top;\n",
       "    }\n",
       "\n",
       "    .dataframe thead th {\n",
       "        text-align: right;\n",
       "    }\n",
       "</style>\n",
       "<table border=\"1\" class=\"dataframe\">\n",
       "  <thead>\n",
       "    <tr style=\"text-align: right;\">\n",
       "      <th></th>\n",
       "      <th>Age</th>\n",
       "      <th>Attrition</th>\n",
       "      <th>BusinessTravel</th>\n",
       "      <th>Department</th>\n",
       "      <th>DistanceFromHome</th>\n",
       "      <th>Education</th>\n",
       "      <th>EducationField</th>\n",
       "      <th>EmployeeCount</th>\n",
       "      <th>EmployeeID</th>\n",
       "      <th>Gender</th>\n",
       "      <th>...</th>\n",
       "      <th>TotalWorkingYears</th>\n",
       "      <th>TrainingTimesLastYear</th>\n",
       "      <th>YearsAtCompany</th>\n",
       "      <th>YearsSinceLastPromotion</th>\n",
       "      <th>YearsWithCurrManager</th>\n",
       "      <th>EnvironmentSatisfaction</th>\n",
       "      <th>JobSatisfaction</th>\n",
       "      <th>WorkLifeBalance</th>\n",
       "      <th>JobInvolvement</th>\n",
       "      <th>PerformanceRating</th>\n",
       "    </tr>\n",
       "  </thead>\n",
       "  <tbody>\n",
       "    <tr>\n",
       "      <th>0</th>\n",
       "      <td>51</td>\n",
       "      <td>No</td>\n",
       "      <td>Travel_Rarely</td>\n",
       "      <td>Sales</td>\n",
       "      <td>6</td>\n",
       "      <td>2</td>\n",
       "      <td>Life Sciences</td>\n",
       "      <td>1</td>\n",
       "      <td>1</td>\n",
       "      <td>Female</td>\n",
       "      <td>...</td>\n",
       "      <td>1.0</td>\n",
       "      <td>6</td>\n",
       "      <td>1</td>\n",
       "      <td>0</td>\n",
       "      <td>0</td>\n",
       "      <td>3.0</td>\n",
       "      <td>4.0</td>\n",
       "      <td>2.0</td>\n",
       "      <td>3</td>\n",
       "      <td>3</td>\n",
       "    </tr>\n",
       "    <tr>\n",
       "      <th>1</th>\n",
       "      <td>31</td>\n",
       "      <td>Yes</td>\n",
       "      <td>Travel_Frequently</td>\n",
       "      <td>Research &amp; Development</td>\n",
       "      <td>10</td>\n",
       "      <td>1</td>\n",
       "      <td>Life Sciences</td>\n",
       "      <td>1</td>\n",
       "      <td>2</td>\n",
       "      <td>Female</td>\n",
       "      <td>...</td>\n",
       "      <td>6.0</td>\n",
       "      <td>3</td>\n",
       "      <td>5</td>\n",
       "      <td>1</td>\n",
       "      <td>4</td>\n",
       "      <td>3.0</td>\n",
       "      <td>2.0</td>\n",
       "      <td>4.0</td>\n",
       "      <td>2</td>\n",
       "      <td>4</td>\n",
       "    </tr>\n",
       "    <tr>\n",
       "      <th>2</th>\n",
       "      <td>32</td>\n",
       "      <td>No</td>\n",
       "      <td>Travel_Frequently</td>\n",
       "      <td>Research &amp; Development</td>\n",
       "      <td>17</td>\n",
       "      <td>4</td>\n",
       "      <td>Other</td>\n",
       "      <td>1</td>\n",
       "      <td>3</td>\n",
       "      <td>Male</td>\n",
       "      <td>...</td>\n",
       "      <td>5.0</td>\n",
       "      <td>2</td>\n",
       "      <td>5</td>\n",
       "      <td>0</td>\n",
       "      <td>3</td>\n",
       "      <td>2.0</td>\n",
       "      <td>2.0</td>\n",
       "      <td>1.0</td>\n",
       "      <td>3</td>\n",
       "      <td>3</td>\n",
       "    </tr>\n",
       "    <tr>\n",
       "      <th>3</th>\n",
       "      <td>38</td>\n",
       "      <td>No</td>\n",
       "      <td>Non-Travel</td>\n",
       "      <td>Research &amp; Development</td>\n",
       "      <td>2</td>\n",
       "      <td>5</td>\n",
       "      <td>Life Sciences</td>\n",
       "      <td>1</td>\n",
       "      <td>4</td>\n",
       "      <td>Male</td>\n",
       "      <td>...</td>\n",
       "      <td>13.0</td>\n",
       "      <td>5</td>\n",
       "      <td>8</td>\n",
       "      <td>7</td>\n",
       "      <td>5</td>\n",
       "      <td>4.0</td>\n",
       "      <td>4.0</td>\n",
       "      <td>3.0</td>\n",
       "      <td>2</td>\n",
       "      <td>3</td>\n",
       "    </tr>\n",
       "    <tr>\n",
       "      <th>4</th>\n",
       "      <td>32</td>\n",
       "      <td>No</td>\n",
       "      <td>Travel_Rarely</td>\n",
       "      <td>Research &amp; Development</td>\n",
       "      <td>10</td>\n",
       "      <td>1</td>\n",
       "      <td>Medical</td>\n",
       "      <td>1</td>\n",
       "      <td>5</td>\n",
       "      <td>Male</td>\n",
       "      <td>...</td>\n",
       "      <td>9.0</td>\n",
       "      <td>2</td>\n",
       "      <td>6</td>\n",
       "      <td>0</td>\n",
       "      <td>4</td>\n",
       "      <td>4.0</td>\n",
       "      <td>1.0</td>\n",
       "      <td>3.0</td>\n",
       "      <td>3</td>\n",
       "      <td>3</td>\n",
       "    </tr>\n",
       "    <tr>\n",
       "      <th>5</th>\n",
       "      <td>46</td>\n",
       "      <td>No</td>\n",
       "      <td>Travel_Rarely</td>\n",
       "      <td>Research &amp; Development</td>\n",
       "      <td>8</td>\n",
       "      <td>3</td>\n",
       "      <td>Life Sciences</td>\n",
       "      <td>1</td>\n",
       "      <td>6</td>\n",
       "      <td>Female</td>\n",
       "      <td>...</td>\n",
       "      <td>28.0</td>\n",
       "      <td>5</td>\n",
       "      <td>7</td>\n",
       "      <td>7</td>\n",
       "      <td>7</td>\n",
       "      <td>3.0</td>\n",
       "      <td>2.0</td>\n",
       "      <td>2.0</td>\n",
       "      <td>3</td>\n",
       "      <td>3</td>\n",
       "    </tr>\n",
       "    <tr>\n",
       "      <th>6</th>\n",
       "      <td>28</td>\n",
       "      <td>Yes</td>\n",
       "      <td>Travel_Rarely</td>\n",
       "      <td>Research &amp; Development</td>\n",
       "      <td>11</td>\n",
       "      <td>2</td>\n",
       "      <td>Medical</td>\n",
       "      <td>1</td>\n",
       "      <td>7</td>\n",
       "      <td>Male</td>\n",
       "      <td>...</td>\n",
       "      <td>5.0</td>\n",
       "      <td>2</td>\n",
       "      <td>0</td>\n",
       "      <td>0</td>\n",
       "      <td>0</td>\n",
       "      <td>1.0</td>\n",
       "      <td>3.0</td>\n",
       "      <td>1.0</td>\n",
       "      <td>3</td>\n",
       "      <td>4</td>\n",
       "    </tr>\n",
       "    <tr>\n",
       "      <th>7</th>\n",
       "      <td>29</td>\n",
       "      <td>No</td>\n",
       "      <td>Travel_Rarely</td>\n",
       "      <td>Research &amp; Development</td>\n",
       "      <td>18</td>\n",
       "      <td>3</td>\n",
       "      <td>Life Sciences</td>\n",
       "      <td>1</td>\n",
       "      <td>8</td>\n",
       "      <td>Male</td>\n",
       "      <td>...</td>\n",
       "      <td>10.0</td>\n",
       "      <td>2</td>\n",
       "      <td>0</td>\n",
       "      <td>0</td>\n",
       "      <td>0</td>\n",
       "      <td>1.0</td>\n",
       "      <td>2.0</td>\n",
       "      <td>3.0</td>\n",
       "      <td>3</td>\n",
       "      <td>4</td>\n",
       "    </tr>\n",
       "    <tr>\n",
       "      <th>8</th>\n",
       "      <td>31</td>\n",
       "      <td>No</td>\n",
       "      <td>Travel_Rarely</td>\n",
       "      <td>Research &amp; Development</td>\n",
       "      <td>1</td>\n",
       "      <td>3</td>\n",
       "      <td>Life Sciences</td>\n",
       "      <td>1</td>\n",
       "      <td>9</td>\n",
       "      <td>Male</td>\n",
       "      <td>...</td>\n",
       "      <td>10.0</td>\n",
       "      <td>2</td>\n",
       "      <td>9</td>\n",
       "      <td>7</td>\n",
       "      <td>8</td>\n",
       "      <td>2.0</td>\n",
       "      <td>4.0</td>\n",
       "      <td>3.0</td>\n",
       "      <td>3</td>\n",
       "      <td>4</td>\n",
       "    </tr>\n",
       "    <tr>\n",
       "      <th>9</th>\n",
       "      <td>25</td>\n",
       "      <td>No</td>\n",
       "      <td>Non-Travel</td>\n",
       "      <td>Research &amp; Development</td>\n",
       "      <td>7</td>\n",
       "      <td>4</td>\n",
       "      <td>Medical</td>\n",
       "      <td>1</td>\n",
       "      <td>10</td>\n",
       "      <td>Female</td>\n",
       "      <td>...</td>\n",
       "      <td>6.0</td>\n",
       "      <td>2</td>\n",
       "      <td>6</td>\n",
       "      <td>1</td>\n",
       "      <td>5</td>\n",
       "      <td>2.0</td>\n",
       "      <td>1.0</td>\n",
       "      <td>3.0</td>\n",
       "      <td>3</td>\n",
       "      <td>3</td>\n",
       "    </tr>\n",
       "  </tbody>\n",
       "</table>\n",
       "<p>10 rows × 29 columns</p>\n",
       "</div>"
      ],
      "text/plain": [
       "   Age Attrition     BusinessTravel              Department  DistanceFromHome  \\\n",
       "0   51        No      Travel_Rarely                   Sales                 6   \n",
       "1   31       Yes  Travel_Frequently  Research & Development                10   \n",
       "2   32        No  Travel_Frequently  Research & Development                17   \n",
       "3   38        No         Non-Travel  Research & Development                 2   \n",
       "4   32        No      Travel_Rarely  Research & Development                10   \n",
       "5   46        No      Travel_Rarely  Research & Development                 8   \n",
       "6   28       Yes      Travel_Rarely  Research & Development                11   \n",
       "7   29        No      Travel_Rarely  Research & Development                18   \n",
       "8   31        No      Travel_Rarely  Research & Development                 1   \n",
       "9   25        No         Non-Travel  Research & Development                 7   \n",
       "\n",
       "   Education EducationField  EmployeeCount  EmployeeID  Gender  ...  \\\n",
       "0          2  Life Sciences              1           1  Female  ...   \n",
       "1          1  Life Sciences              1           2  Female  ...   \n",
       "2          4          Other              1           3    Male  ...   \n",
       "3          5  Life Sciences              1           4    Male  ...   \n",
       "4          1        Medical              1           5    Male  ...   \n",
       "5          3  Life Sciences              1           6  Female  ...   \n",
       "6          2        Medical              1           7    Male  ...   \n",
       "7          3  Life Sciences              1           8    Male  ...   \n",
       "8          3  Life Sciences              1           9    Male  ...   \n",
       "9          4        Medical              1          10  Female  ...   \n",
       "\n",
       "   TotalWorkingYears TrainingTimesLastYear YearsAtCompany  \\\n",
       "0                1.0                     6              1   \n",
       "1                6.0                     3              5   \n",
       "2                5.0                     2              5   \n",
       "3               13.0                     5              8   \n",
       "4                9.0                     2              6   \n",
       "5               28.0                     5              7   \n",
       "6                5.0                     2              0   \n",
       "7               10.0                     2              0   \n",
       "8               10.0                     2              9   \n",
       "9                6.0                     2              6   \n",
       "\n",
       "   YearsSinceLastPromotion  YearsWithCurrManager EnvironmentSatisfaction  \\\n",
       "0                        0                     0                     3.0   \n",
       "1                        1                     4                     3.0   \n",
       "2                        0                     3                     2.0   \n",
       "3                        7                     5                     4.0   \n",
       "4                        0                     4                     4.0   \n",
       "5                        7                     7                     3.0   \n",
       "6                        0                     0                     1.0   \n",
       "7                        0                     0                     1.0   \n",
       "8                        7                     8                     2.0   \n",
       "9                        1                     5                     2.0   \n",
       "\n",
       "   JobSatisfaction  WorkLifeBalance  JobInvolvement  PerformanceRating  \n",
       "0              4.0              2.0               3                  3  \n",
       "1              2.0              4.0               2                  4  \n",
       "2              2.0              1.0               3                  3  \n",
       "3              4.0              3.0               2                  3  \n",
       "4              1.0              3.0               3                  3  \n",
       "5              2.0              2.0               3                  3  \n",
       "6              3.0              1.0               3                  4  \n",
       "7              2.0              3.0               3                  4  \n",
       "8              4.0              3.0               3                  4  \n",
       "9              1.0              3.0               3                  3  \n",
       "\n",
       "[10 rows x 29 columns]"
      ]
     },
     "execution_count": 165,
     "metadata": {},
     "output_type": "execute_result"
    }
   ],
   "source": [
    "data.head(10)"
   ]
  },
  {
   "cell_type": "markdown",
   "metadata": {},
   "source": [
    "> De eerste 10 rijen van de dataframe"
   ]
  },
  {
   "cell_type": "code",
   "execution_count": 166,
   "metadata": {},
   "outputs": [
    {
     "data": {
      "text/plain": [
       "(4410, 29)"
      ]
     },
     "execution_count": 166,
     "metadata": {},
     "output_type": "execute_result"
    }
   ],
   "source": [
    "data.shape"
   ]
  },
  {
   "cell_type": "markdown",
   "metadata": {},
   "source": [
    "> Omvang van de dataframe; 29 kolommen en 4410 rijen"
   ]
  },
  {
   "cell_type": "code",
   "execution_count": 167,
   "metadata": {},
   "outputs": [
    {
     "name": "stdout",
     "output_type": "stream",
     "text": [
      "<class 'pandas.core.frame.DataFrame'>\n",
      "RangeIndex: 4410 entries, 0 to 4409\n",
      "Data columns (total 29 columns):\n",
      " #   Column                   Non-Null Count  Dtype  \n",
      "---  ------                   --------------  -----  \n",
      " 0   Age                      4410 non-null   int64  \n",
      " 1   Attrition                4410 non-null   object \n",
      " 2   BusinessTravel           4410 non-null   object \n",
      " 3   Department               4410 non-null   object \n",
      " 4   DistanceFromHome         4410 non-null   int64  \n",
      " 5   Education                4410 non-null   int64  \n",
      " 6   EducationField           4410 non-null   object \n",
      " 7   EmployeeCount            4410 non-null   int64  \n",
      " 8   EmployeeID               4410 non-null   int64  \n",
      " 9   Gender                   4410 non-null   object \n",
      " 10  JobLevel                 4410 non-null   int64  \n",
      " 11  JobRole                  4410 non-null   object \n",
      " 12  MaritalStatus            4410 non-null   object \n",
      " 13  MonthlyIncome            4410 non-null   int64  \n",
      " 14  NumCompaniesWorked       4391 non-null   float64\n",
      " 15  Over18                   4410 non-null   object \n",
      " 16  PercentSalaryHike        4410 non-null   int64  \n",
      " 17  StandardHours            4410 non-null   int64  \n",
      " 18  StockOptionLevel         4410 non-null   int64  \n",
      " 19  TotalWorkingYears        4401 non-null   float64\n",
      " 20  TrainingTimesLastYear    4410 non-null   int64  \n",
      " 21  YearsAtCompany           4410 non-null   int64  \n",
      " 22  YearsSinceLastPromotion  4410 non-null   int64  \n",
      " 23  YearsWithCurrManager     4410 non-null   int64  \n",
      " 24  EnvironmentSatisfaction  4385 non-null   float64\n",
      " 25  JobSatisfaction          4390 non-null   float64\n",
      " 26  WorkLifeBalance          4372 non-null   float64\n",
      " 27  JobInvolvement           4410 non-null   int64  \n",
      " 28  PerformanceRating        4410 non-null   int64  \n",
      "dtypes: float64(5), int64(16), object(8)\n",
      "memory usage: 999.3+ KB\n"
     ]
    }
   ],
   "source": [
    "data.info()"
   ]
  },
  {
   "cell_type": "markdown",
   "metadata": {},
   "source": [
    "> Hoeveelheid non-null waarden en de data types van de dataframe"
   ]
  },
  {
   "cell_type": "code",
   "execution_count": 168,
   "metadata": {},
   "outputs": [
    {
     "data": {
      "text/html": [
       "<div>\n",
       "<style scoped>\n",
       "    .dataframe tbody tr th:only-of-type {\n",
       "        vertical-align: middle;\n",
       "    }\n",
       "\n",
       "    .dataframe tbody tr th {\n",
       "        vertical-align: top;\n",
       "    }\n",
       "\n",
       "    .dataframe thead th {\n",
       "        text-align: right;\n",
       "    }\n",
       "</style>\n",
       "<table border=\"1\" class=\"dataframe\">\n",
       "  <thead>\n",
       "    <tr style=\"text-align: right;\">\n",
       "      <th></th>\n",
       "      <th>Age</th>\n",
       "      <th>DistanceFromHome</th>\n",
       "      <th>Education</th>\n",
       "      <th>EmployeeCount</th>\n",
       "      <th>EmployeeID</th>\n",
       "      <th>JobLevel</th>\n",
       "      <th>MonthlyIncome</th>\n",
       "      <th>NumCompaniesWorked</th>\n",
       "      <th>PercentSalaryHike</th>\n",
       "      <th>StandardHours</th>\n",
       "      <th>...</th>\n",
       "      <th>TotalWorkingYears</th>\n",
       "      <th>TrainingTimesLastYear</th>\n",
       "      <th>YearsAtCompany</th>\n",
       "      <th>YearsSinceLastPromotion</th>\n",
       "      <th>YearsWithCurrManager</th>\n",
       "      <th>EnvironmentSatisfaction</th>\n",
       "      <th>JobSatisfaction</th>\n",
       "      <th>WorkLifeBalance</th>\n",
       "      <th>JobInvolvement</th>\n",
       "      <th>PerformanceRating</th>\n",
       "    </tr>\n",
       "  </thead>\n",
       "  <tbody>\n",
       "    <tr>\n",
       "      <th>count</th>\n",
       "      <td>4410.000000</td>\n",
       "      <td>4410.000000</td>\n",
       "      <td>4410.000000</td>\n",
       "      <td>4410.0</td>\n",
       "      <td>4410.000000</td>\n",
       "      <td>4410.000000</td>\n",
       "      <td>4410.000000</td>\n",
       "      <td>4391.000000</td>\n",
       "      <td>4410.000000</td>\n",
       "      <td>4410.0</td>\n",
       "      <td>...</td>\n",
       "      <td>4401.000000</td>\n",
       "      <td>4410.000000</td>\n",
       "      <td>4410.000000</td>\n",
       "      <td>4410.000000</td>\n",
       "      <td>4410.000000</td>\n",
       "      <td>4385.000000</td>\n",
       "      <td>4390.000000</td>\n",
       "      <td>4372.000000</td>\n",
       "      <td>4410.000000</td>\n",
       "      <td>4410.000000</td>\n",
       "    </tr>\n",
       "    <tr>\n",
       "      <th>mean</th>\n",
       "      <td>36.923810</td>\n",
       "      <td>9.192517</td>\n",
       "      <td>2.912925</td>\n",
       "      <td>1.0</td>\n",
       "      <td>2205.500000</td>\n",
       "      <td>2.063946</td>\n",
       "      <td>65029.312925</td>\n",
       "      <td>2.694830</td>\n",
       "      <td>15.209524</td>\n",
       "      <td>8.0</td>\n",
       "      <td>...</td>\n",
       "      <td>11.279936</td>\n",
       "      <td>2.799320</td>\n",
       "      <td>7.008163</td>\n",
       "      <td>2.187755</td>\n",
       "      <td>4.123129</td>\n",
       "      <td>2.723603</td>\n",
       "      <td>2.728246</td>\n",
       "      <td>2.761436</td>\n",
       "      <td>2.729932</td>\n",
       "      <td>3.153741</td>\n",
       "    </tr>\n",
       "    <tr>\n",
       "      <th>std</th>\n",
       "      <td>9.133301</td>\n",
       "      <td>8.105026</td>\n",
       "      <td>1.023933</td>\n",
       "      <td>0.0</td>\n",
       "      <td>1273.201673</td>\n",
       "      <td>1.106689</td>\n",
       "      <td>47068.888559</td>\n",
       "      <td>2.498887</td>\n",
       "      <td>3.659108</td>\n",
       "      <td>0.0</td>\n",
       "      <td>...</td>\n",
       "      <td>7.782222</td>\n",
       "      <td>1.288978</td>\n",
       "      <td>6.125135</td>\n",
       "      <td>3.221699</td>\n",
       "      <td>3.567327</td>\n",
       "      <td>1.092756</td>\n",
       "      <td>1.101253</td>\n",
       "      <td>0.706245</td>\n",
       "      <td>0.711400</td>\n",
       "      <td>0.360742</td>\n",
       "    </tr>\n",
       "    <tr>\n",
       "      <th>min</th>\n",
       "      <td>18.000000</td>\n",
       "      <td>1.000000</td>\n",
       "      <td>1.000000</td>\n",
       "      <td>1.0</td>\n",
       "      <td>1.000000</td>\n",
       "      <td>1.000000</td>\n",
       "      <td>10090.000000</td>\n",
       "      <td>0.000000</td>\n",
       "      <td>11.000000</td>\n",
       "      <td>8.0</td>\n",
       "      <td>...</td>\n",
       "      <td>0.000000</td>\n",
       "      <td>0.000000</td>\n",
       "      <td>0.000000</td>\n",
       "      <td>0.000000</td>\n",
       "      <td>0.000000</td>\n",
       "      <td>1.000000</td>\n",
       "      <td>1.000000</td>\n",
       "      <td>1.000000</td>\n",
       "      <td>1.000000</td>\n",
       "      <td>3.000000</td>\n",
       "    </tr>\n",
       "    <tr>\n",
       "      <th>25%</th>\n",
       "      <td>30.000000</td>\n",
       "      <td>2.000000</td>\n",
       "      <td>2.000000</td>\n",
       "      <td>1.0</td>\n",
       "      <td>1103.250000</td>\n",
       "      <td>1.000000</td>\n",
       "      <td>29110.000000</td>\n",
       "      <td>1.000000</td>\n",
       "      <td>12.000000</td>\n",
       "      <td>8.0</td>\n",
       "      <td>...</td>\n",
       "      <td>6.000000</td>\n",
       "      <td>2.000000</td>\n",
       "      <td>3.000000</td>\n",
       "      <td>0.000000</td>\n",
       "      <td>2.000000</td>\n",
       "      <td>2.000000</td>\n",
       "      <td>2.000000</td>\n",
       "      <td>2.000000</td>\n",
       "      <td>2.000000</td>\n",
       "      <td>3.000000</td>\n",
       "    </tr>\n",
       "    <tr>\n",
       "      <th>50%</th>\n",
       "      <td>36.000000</td>\n",
       "      <td>7.000000</td>\n",
       "      <td>3.000000</td>\n",
       "      <td>1.0</td>\n",
       "      <td>2205.500000</td>\n",
       "      <td>2.000000</td>\n",
       "      <td>49190.000000</td>\n",
       "      <td>2.000000</td>\n",
       "      <td>14.000000</td>\n",
       "      <td>8.0</td>\n",
       "      <td>...</td>\n",
       "      <td>10.000000</td>\n",
       "      <td>3.000000</td>\n",
       "      <td>5.000000</td>\n",
       "      <td>1.000000</td>\n",
       "      <td>3.000000</td>\n",
       "      <td>3.000000</td>\n",
       "      <td>3.000000</td>\n",
       "      <td>3.000000</td>\n",
       "      <td>3.000000</td>\n",
       "      <td>3.000000</td>\n",
       "    </tr>\n",
       "    <tr>\n",
       "      <th>75%</th>\n",
       "      <td>43.000000</td>\n",
       "      <td>14.000000</td>\n",
       "      <td>4.000000</td>\n",
       "      <td>1.0</td>\n",
       "      <td>3307.750000</td>\n",
       "      <td>3.000000</td>\n",
       "      <td>83800.000000</td>\n",
       "      <td>4.000000</td>\n",
       "      <td>18.000000</td>\n",
       "      <td>8.0</td>\n",
       "      <td>...</td>\n",
       "      <td>15.000000</td>\n",
       "      <td>3.000000</td>\n",
       "      <td>9.000000</td>\n",
       "      <td>3.000000</td>\n",
       "      <td>7.000000</td>\n",
       "      <td>4.000000</td>\n",
       "      <td>4.000000</td>\n",
       "      <td>3.000000</td>\n",
       "      <td>3.000000</td>\n",
       "      <td>3.000000</td>\n",
       "    </tr>\n",
       "    <tr>\n",
       "      <th>max</th>\n",
       "      <td>60.000000</td>\n",
       "      <td>29.000000</td>\n",
       "      <td>5.000000</td>\n",
       "      <td>1.0</td>\n",
       "      <td>4410.000000</td>\n",
       "      <td>5.000000</td>\n",
       "      <td>199990.000000</td>\n",
       "      <td>9.000000</td>\n",
       "      <td>25.000000</td>\n",
       "      <td>8.0</td>\n",
       "      <td>...</td>\n",
       "      <td>40.000000</td>\n",
       "      <td>6.000000</td>\n",
       "      <td>40.000000</td>\n",
       "      <td>15.000000</td>\n",
       "      <td>17.000000</td>\n",
       "      <td>4.000000</td>\n",
       "      <td>4.000000</td>\n",
       "      <td>4.000000</td>\n",
       "      <td>4.000000</td>\n",
       "      <td>4.000000</td>\n",
       "    </tr>\n",
       "  </tbody>\n",
       "</table>\n",
       "<p>8 rows × 21 columns</p>\n",
       "</div>"
      ],
      "text/plain": [
       "               Age  DistanceFromHome    Education  EmployeeCount   EmployeeID  \\\n",
       "count  4410.000000       4410.000000  4410.000000         4410.0  4410.000000   \n",
       "mean     36.923810          9.192517     2.912925            1.0  2205.500000   \n",
       "std       9.133301          8.105026     1.023933            0.0  1273.201673   \n",
       "min      18.000000          1.000000     1.000000            1.0     1.000000   \n",
       "25%      30.000000          2.000000     2.000000            1.0  1103.250000   \n",
       "50%      36.000000          7.000000     3.000000            1.0  2205.500000   \n",
       "75%      43.000000         14.000000     4.000000            1.0  3307.750000   \n",
       "max      60.000000         29.000000     5.000000            1.0  4410.000000   \n",
       "\n",
       "          JobLevel  MonthlyIncome  NumCompaniesWorked  PercentSalaryHike  \\\n",
       "count  4410.000000    4410.000000         4391.000000        4410.000000   \n",
       "mean      2.063946   65029.312925            2.694830          15.209524   \n",
       "std       1.106689   47068.888559            2.498887           3.659108   \n",
       "min       1.000000   10090.000000            0.000000          11.000000   \n",
       "25%       1.000000   29110.000000            1.000000          12.000000   \n",
       "50%       2.000000   49190.000000            2.000000          14.000000   \n",
       "75%       3.000000   83800.000000            4.000000          18.000000   \n",
       "max       5.000000  199990.000000            9.000000          25.000000   \n",
       "\n",
       "       StandardHours  ...  TotalWorkingYears  TrainingTimesLastYear  \\\n",
       "count         4410.0  ...        4401.000000            4410.000000   \n",
       "mean             8.0  ...          11.279936               2.799320   \n",
       "std              0.0  ...           7.782222               1.288978   \n",
       "min              8.0  ...           0.000000               0.000000   \n",
       "25%              8.0  ...           6.000000               2.000000   \n",
       "50%              8.0  ...          10.000000               3.000000   \n",
       "75%              8.0  ...          15.000000               3.000000   \n",
       "max              8.0  ...          40.000000               6.000000   \n",
       "\n",
       "       YearsAtCompany  YearsSinceLastPromotion  YearsWithCurrManager  \\\n",
       "count     4410.000000              4410.000000           4410.000000   \n",
       "mean         7.008163                 2.187755              4.123129   \n",
       "std          6.125135                 3.221699              3.567327   \n",
       "min          0.000000                 0.000000              0.000000   \n",
       "25%          3.000000                 0.000000              2.000000   \n",
       "50%          5.000000                 1.000000              3.000000   \n",
       "75%          9.000000                 3.000000              7.000000   \n",
       "max         40.000000                15.000000             17.000000   \n",
       "\n",
       "       EnvironmentSatisfaction  JobSatisfaction  WorkLifeBalance  \\\n",
       "count              4385.000000      4390.000000      4372.000000   \n",
       "mean                  2.723603         2.728246         2.761436   \n",
       "std                   1.092756         1.101253         0.706245   \n",
       "min                   1.000000         1.000000         1.000000   \n",
       "25%                   2.000000         2.000000         2.000000   \n",
       "50%                   3.000000         3.000000         3.000000   \n",
       "75%                   4.000000         4.000000         3.000000   \n",
       "max                   4.000000         4.000000         4.000000   \n",
       "\n",
       "       JobInvolvement  PerformanceRating  \n",
       "count     4410.000000        4410.000000  \n",
       "mean         2.729932           3.153741  \n",
       "std          0.711400           0.360742  \n",
       "min          1.000000           3.000000  \n",
       "25%          2.000000           3.000000  \n",
       "50%          3.000000           3.000000  \n",
       "75%          3.000000           3.000000  \n",
       "max          4.000000           4.000000  \n",
       "\n",
       "[8 rows x 21 columns]"
      ]
     },
     "execution_count": 168,
     "metadata": {},
     "output_type": "execute_result"
    }
   ],
   "source": [
    "data.describe()"
   ]
  },
  {
   "cell_type": "markdown",
   "metadata": {},
   "source": [
    "> Beschrijvende statistiek van de dataframe"
   ]
  },
  {
   "cell_type": "code",
   "execution_count": 169,
   "metadata": {},
   "outputs": [
    {
     "data": {
      "text/plain": [
       "Age                         0\n",
       "Attrition                   0\n",
       "BusinessTravel              0\n",
       "Department                  0\n",
       "DistanceFromHome            0\n",
       "Education                   0\n",
       "EducationField              0\n",
       "EmployeeCount               0\n",
       "EmployeeID                  0\n",
       "Gender                      0\n",
       "JobLevel                    0\n",
       "JobRole                     0\n",
       "MaritalStatus               0\n",
       "MonthlyIncome               0\n",
       "NumCompaniesWorked         19\n",
       "Over18                      0\n",
       "PercentSalaryHike           0\n",
       "StandardHours               0\n",
       "StockOptionLevel            0\n",
       "TotalWorkingYears           9\n",
       "TrainingTimesLastYear       0\n",
       "YearsAtCompany              0\n",
       "YearsSinceLastPromotion     0\n",
       "YearsWithCurrManager        0\n",
       "EnvironmentSatisfaction    25\n",
       "JobSatisfaction            20\n",
       "WorkLifeBalance            38\n",
       "JobInvolvement              0\n",
       "PerformanceRating           0\n",
       "dtype: int64"
      ]
     },
     "execution_count": 169,
     "metadata": {},
     "output_type": "execute_result"
    }
   ],
   "source": [
    "data.isna().sum()"
   ]
  },
  {
   "cell_type": "markdown",
   "metadata": {},
   "source": [
    "> Er missen waarden in vijf kolommen van de dataframe: NumCompaniesWorked, TotalWorkingYears, EnvironmentSatisfaction, JobSatisfaction en JobInvolvement (data is vrij compleet)\n",
    "\n",
    "> RelationshipSatisfaction bestaat niet, staat wel in de data_dictionary"
   ]
  },
  {
   "cell_type": "code",
   "execution_count": 170,
   "metadata": {},
   "outputs": [
    {
     "data": {
      "text/plain": [
       "0"
      ]
     },
     "execution_count": 170,
     "metadata": {},
     "output_type": "execute_result"
    }
   ],
   "source": [
    "data.duplicated().sum()"
   ]
  },
  {
   "cell_type": "markdown",
   "metadata": {},
   "source": [
    "> Geen redundante data in de dataframe"
   ]
  },
  {
   "cell_type": "markdown",
   "metadata": {},
   "source": [
    "### in_time"
   ]
  },
  {
   "cell_type": "code",
   "execution_count": 171,
   "metadata": {},
   "outputs": [
    {
     "data": {
      "text/html": [
       "<div>\n",
       "<style scoped>\n",
       "    .dataframe tbody tr th:only-of-type {\n",
       "        vertical-align: middle;\n",
       "    }\n",
       "\n",
       "    .dataframe tbody tr th {\n",
       "        vertical-align: top;\n",
       "    }\n",
       "\n",
       "    .dataframe thead th {\n",
       "        text-align: right;\n",
       "    }\n",
       "</style>\n",
       "<table border=\"1\" class=\"dataframe\">\n",
       "  <thead>\n",
       "    <tr style=\"text-align: right;\">\n",
       "      <th></th>\n",
       "      <th>Unnamed: 0</th>\n",
       "      <th>2015-01-01</th>\n",
       "      <th>2015-01-02</th>\n",
       "      <th>2015-01-05</th>\n",
       "      <th>2015-01-06</th>\n",
       "      <th>2015-01-07</th>\n",
       "      <th>2015-01-08</th>\n",
       "      <th>2015-01-09</th>\n",
       "      <th>2015-01-12</th>\n",
       "      <th>2015-01-13</th>\n",
       "      <th>...</th>\n",
       "      <th>2015-12-18</th>\n",
       "      <th>2015-12-21</th>\n",
       "      <th>2015-12-22</th>\n",
       "      <th>2015-12-23</th>\n",
       "      <th>2015-12-24</th>\n",
       "      <th>2015-12-25</th>\n",
       "      <th>2015-12-28</th>\n",
       "      <th>2015-12-29</th>\n",
       "      <th>2015-12-30</th>\n",
       "      <th>2015-12-31</th>\n",
       "    </tr>\n",
       "  </thead>\n",
       "  <tbody>\n",
       "    <tr>\n",
       "      <th>0</th>\n",
       "      <td>1</td>\n",
       "      <td>NaN</td>\n",
       "      <td>2015-01-02 09:43:45</td>\n",
       "      <td>2015-01-05 10:08:48</td>\n",
       "      <td>2015-01-06 09:54:26</td>\n",
       "      <td>2015-01-07 09:34:31</td>\n",
       "      <td>2015-01-08 09:51:09</td>\n",
       "      <td>2015-01-09 10:09:25</td>\n",
       "      <td>2015-01-12 09:42:53</td>\n",
       "      <td>2015-01-13 10:13:06</td>\n",
       "      <td>...</td>\n",
       "      <td>NaN</td>\n",
       "      <td>2015-12-21 09:55:29</td>\n",
       "      <td>2015-12-22 10:04:06</td>\n",
       "      <td>2015-12-23 10:14:27</td>\n",
       "      <td>2015-12-24 10:11:35</td>\n",
       "      <td>NaN</td>\n",
       "      <td>2015-12-28 10:13:41</td>\n",
       "      <td>2015-12-29 10:03:36</td>\n",
       "      <td>2015-12-30 09:54:12</td>\n",
       "      <td>2015-12-31 10:12:44</td>\n",
       "    </tr>\n",
       "    <tr>\n",
       "      <th>1</th>\n",
       "      <td>2</td>\n",
       "      <td>NaN</td>\n",
       "      <td>2015-01-02 10:15:44</td>\n",
       "      <td>2015-01-05 10:21:05</td>\n",
       "      <td>NaN</td>\n",
       "      <td>2015-01-07 09:45:17</td>\n",
       "      <td>2015-01-08 10:09:04</td>\n",
       "      <td>2015-01-09 09:43:26</td>\n",
       "      <td>2015-01-12 10:00:07</td>\n",
       "      <td>2015-01-13 10:43:29</td>\n",
       "      <td>...</td>\n",
       "      <td>2015-12-18 10:37:17</td>\n",
       "      <td>2015-12-21 09:49:02</td>\n",
       "      <td>2015-12-22 10:33:51</td>\n",
       "      <td>2015-12-23 10:12:10</td>\n",
       "      <td>NaN</td>\n",
       "      <td>NaN</td>\n",
       "      <td>2015-12-28 09:31:45</td>\n",
       "      <td>2015-12-29 09:55:49</td>\n",
       "      <td>2015-12-30 10:32:25</td>\n",
       "      <td>2015-12-31 09:27:20</td>\n",
       "    </tr>\n",
       "    <tr>\n",
       "      <th>2</th>\n",
       "      <td>3</td>\n",
       "      <td>NaN</td>\n",
       "      <td>2015-01-02 10:17:41</td>\n",
       "      <td>2015-01-05 09:50:50</td>\n",
       "      <td>2015-01-06 10:14:13</td>\n",
       "      <td>2015-01-07 09:47:27</td>\n",
       "      <td>2015-01-08 10:03:40</td>\n",
       "      <td>2015-01-09 10:05:49</td>\n",
       "      <td>2015-01-12 10:03:47</td>\n",
       "      <td>2015-01-13 10:21:26</td>\n",
       "      <td>...</td>\n",
       "      <td>2015-12-18 10:15:14</td>\n",
       "      <td>2015-12-21 10:10:28</td>\n",
       "      <td>2015-12-22 09:44:44</td>\n",
       "      <td>2015-12-23 10:15:54</td>\n",
       "      <td>2015-12-24 10:07:26</td>\n",
       "      <td>NaN</td>\n",
       "      <td>2015-12-28 09:42:05</td>\n",
       "      <td>2015-12-29 09:43:36</td>\n",
       "      <td>2015-12-30 09:34:05</td>\n",
       "      <td>2015-12-31 10:28:39</td>\n",
       "    </tr>\n",
       "    <tr>\n",
       "      <th>3</th>\n",
       "      <td>4</td>\n",
       "      <td>NaN</td>\n",
       "      <td>2015-01-02 10:05:06</td>\n",
       "      <td>2015-01-05 09:56:32</td>\n",
       "      <td>2015-01-06 10:11:07</td>\n",
       "      <td>2015-01-07 09:37:30</td>\n",
       "      <td>2015-01-08 10:02:08</td>\n",
       "      <td>2015-01-09 10:08:12</td>\n",
       "      <td>2015-01-12 10:13:42</td>\n",
       "      <td>2015-01-13 09:53:22</td>\n",
       "      <td>...</td>\n",
       "      <td>2015-12-18 10:17:38</td>\n",
       "      <td>2015-12-21 09:58:21</td>\n",
       "      <td>2015-12-22 10:04:25</td>\n",
       "      <td>2015-12-23 10:11:46</td>\n",
       "      <td>2015-12-24 09:43:15</td>\n",
       "      <td>NaN</td>\n",
       "      <td>2015-12-28 09:52:44</td>\n",
       "      <td>2015-12-29 09:33:16</td>\n",
       "      <td>2015-12-30 10:18:12</td>\n",
       "      <td>2015-12-31 10:01:15</td>\n",
       "    </tr>\n",
       "    <tr>\n",
       "      <th>4</th>\n",
       "      <td>5</td>\n",
       "      <td>NaN</td>\n",
       "      <td>2015-01-02 10:28:17</td>\n",
       "      <td>2015-01-05 09:49:58</td>\n",
       "      <td>2015-01-06 09:45:28</td>\n",
       "      <td>2015-01-07 09:49:37</td>\n",
       "      <td>2015-01-08 10:19:44</td>\n",
       "      <td>2015-01-09 10:00:50</td>\n",
       "      <td>2015-01-12 10:29:27</td>\n",
       "      <td>2015-01-13 09:59:32</td>\n",
       "      <td>...</td>\n",
       "      <td>2015-12-18 09:58:35</td>\n",
       "      <td>2015-12-21 10:03:41</td>\n",
       "      <td>2015-12-22 10:10:30</td>\n",
       "      <td>2015-12-23 10:13:36</td>\n",
       "      <td>2015-12-24 09:44:24</td>\n",
       "      <td>NaN</td>\n",
       "      <td>2015-12-28 10:05:15</td>\n",
       "      <td>2015-12-29 10:30:53</td>\n",
       "      <td>2015-12-30 09:18:21</td>\n",
       "      <td>2015-12-31 09:41:09</td>\n",
       "    </tr>\n",
       "  </tbody>\n",
       "</table>\n",
       "<p>5 rows × 262 columns</p>\n",
       "</div>"
      ],
      "text/plain": [
       "   Unnamed: 0  2015-01-01           2015-01-02           2015-01-05  \\\n",
       "0           1         NaN  2015-01-02 09:43:45  2015-01-05 10:08:48   \n",
       "1           2         NaN  2015-01-02 10:15:44  2015-01-05 10:21:05   \n",
       "2           3         NaN  2015-01-02 10:17:41  2015-01-05 09:50:50   \n",
       "3           4         NaN  2015-01-02 10:05:06  2015-01-05 09:56:32   \n",
       "4           5         NaN  2015-01-02 10:28:17  2015-01-05 09:49:58   \n",
       "\n",
       "            2015-01-06           2015-01-07           2015-01-08  \\\n",
       "0  2015-01-06 09:54:26  2015-01-07 09:34:31  2015-01-08 09:51:09   \n",
       "1                  NaN  2015-01-07 09:45:17  2015-01-08 10:09:04   \n",
       "2  2015-01-06 10:14:13  2015-01-07 09:47:27  2015-01-08 10:03:40   \n",
       "3  2015-01-06 10:11:07  2015-01-07 09:37:30  2015-01-08 10:02:08   \n",
       "4  2015-01-06 09:45:28  2015-01-07 09:49:37  2015-01-08 10:19:44   \n",
       "\n",
       "            2015-01-09           2015-01-12           2015-01-13  ...  \\\n",
       "0  2015-01-09 10:09:25  2015-01-12 09:42:53  2015-01-13 10:13:06  ...   \n",
       "1  2015-01-09 09:43:26  2015-01-12 10:00:07  2015-01-13 10:43:29  ...   \n",
       "2  2015-01-09 10:05:49  2015-01-12 10:03:47  2015-01-13 10:21:26  ...   \n",
       "3  2015-01-09 10:08:12  2015-01-12 10:13:42  2015-01-13 09:53:22  ...   \n",
       "4  2015-01-09 10:00:50  2015-01-12 10:29:27  2015-01-13 09:59:32  ...   \n",
       "\n",
       "            2015-12-18           2015-12-21           2015-12-22  \\\n",
       "0                  NaN  2015-12-21 09:55:29  2015-12-22 10:04:06   \n",
       "1  2015-12-18 10:37:17  2015-12-21 09:49:02  2015-12-22 10:33:51   \n",
       "2  2015-12-18 10:15:14  2015-12-21 10:10:28  2015-12-22 09:44:44   \n",
       "3  2015-12-18 10:17:38  2015-12-21 09:58:21  2015-12-22 10:04:25   \n",
       "4  2015-12-18 09:58:35  2015-12-21 10:03:41  2015-12-22 10:10:30   \n",
       "\n",
       "            2015-12-23           2015-12-24 2015-12-25           2015-12-28  \\\n",
       "0  2015-12-23 10:14:27  2015-12-24 10:11:35        NaN  2015-12-28 10:13:41   \n",
       "1  2015-12-23 10:12:10                  NaN        NaN  2015-12-28 09:31:45   \n",
       "2  2015-12-23 10:15:54  2015-12-24 10:07:26        NaN  2015-12-28 09:42:05   \n",
       "3  2015-12-23 10:11:46  2015-12-24 09:43:15        NaN  2015-12-28 09:52:44   \n",
       "4  2015-12-23 10:13:36  2015-12-24 09:44:24        NaN  2015-12-28 10:05:15   \n",
       "\n",
       "            2015-12-29           2015-12-30           2015-12-31  \n",
       "0  2015-12-29 10:03:36  2015-12-30 09:54:12  2015-12-31 10:12:44  \n",
       "1  2015-12-29 09:55:49  2015-12-30 10:32:25  2015-12-31 09:27:20  \n",
       "2  2015-12-29 09:43:36  2015-12-30 09:34:05  2015-12-31 10:28:39  \n",
       "3  2015-12-29 09:33:16  2015-12-30 10:18:12  2015-12-31 10:01:15  \n",
       "4  2015-12-29 10:30:53  2015-12-30 09:18:21  2015-12-31 09:41:09  \n",
       "\n",
       "[5 rows x 262 columns]"
      ]
     },
     "execution_count": 171,
     "metadata": {},
     "output_type": "execute_result"
    }
   ],
   "source": [
    "in_time.head()"
   ]
  },
  {
   "cell_type": "markdown",
   "metadata": {},
   "source": [
    ">De eerste vijf rijen van in_time"
   ]
  },
  {
   "cell_type": "code",
   "execution_count": 172,
   "metadata": {},
   "outputs": [
    {
     "data": {
      "text/plain": [
       "(4410, 262)"
      ]
     },
     "execution_count": 172,
     "metadata": {},
     "output_type": "execute_result"
    }
   ],
   "source": [
    "in_time.shape"
   ]
  },
  {
   "cell_type": "markdown",
   "metadata": {},
   "source": [
    ">Omvang van in_time; 262 kolommen en 4410 rijen"
   ]
  },
  {
   "cell_type": "code",
   "execution_count": 173,
   "metadata": {},
   "outputs": [
    {
     "name": "stdout",
     "output_type": "stream",
     "text": [
      "<class 'pandas.core.frame.DataFrame'>\n",
      "RangeIndex: 4410 entries, 0 to 4409\n",
      "Columns: 262 entries, Unnamed: 0 to 2015-12-31\n",
      "dtypes: float64(12), int64(1), object(249)\n",
      "memory usage: 8.8+ MB\n"
     ]
    }
   ],
   "source": [
    "in_time.info()"
   ]
  },
  {
   "cell_type": "markdown",
   "metadata": {},
   "source": [
    ">Data types van in_time"
   ]
  },
  {
   "cell_type": "code",
   "execution_count": 174,
   "metadata": {},
   "outputs": [
    {
     "data": {
      "text/plain": [
       "Unnamed: 0       0\n",
       "2015-01-01    4410\n",
       "2015-01-02     209\n",
       "2015-01-05     206\n",
       "2015-01-06     228\n",
       "              ... \n",
       "2015-12-25    4410\n",
       "2015-12-28     234\n",
       "2015-12-29     230\n",
       "2015-12-30     265\n",
       "2015-12-31     213\n",
       "Length: 262, dtype: int64"
      ]
     },
     "execution_count": 174,
     "metadata": {},
     "output_type": "execute_result"
    }
   ],
   "source": [
    "in_time.isna().sum()"
   ]
  },
  {
   "cell_type": "markdown",
   "metadata": {},
   "source": [
    ">Missende waarden in in_time; wellicht verlof en verzuim ook?"
   ]
  },
  {
   "cell_type": "code",
   "execution_count": 175,
   "metadata": {},
   "outputs": [
    {
     "data": {
      "text/plain": [
       "0"
      ]
     },
     "execution_count": 175,
     "metadata": {},
     "output_type": "execute_result"
    }
   ],
   "source": [
    "in_time.duplicated().sum()"
   ]
  },
  {
   "cell_type": "markdown",
   "metadata": {},
   "source": [
    ">Geen redundante data in in_time"
   ]
  },
  {
   "cell_type": "markdown",
   "metadata": {},
   "source": [
    "### out_time"
   ]
  },
  {
   "cell_type": "code",
   "execution_count": 176,
   "metadata": {},
   "outputs": [
    {
     "data": {
      "text/html": [
       "<div>\n",
       "<style scoped>\n",
       "    .dataframe tbody tr th:only-of-type {\n",
       "        vertical-align: middle;\n",
       "    }\n",
       "\n",
       "    .dataframe tbody tr th {\n",
       "        vertical-align: top;\n",
       "    }\n",
       "\n",
       "    .dataframe thead th {\n",
       "        text-align: right;\n",
       "    }\n",
       "</style>\n",
       "<table border=\"1\" class=\"dataframe\">\n",
       "  <thead>\n",
       "    <tr style=\"text-align: right;\">\n",
       "      <th></th>\n",
       "      <th>Unnamed: 0</th>\n",
       "      <th>2015-01-01</th>\n",
       "      <th>2015-01-02</th>\n",
       "      <th>2015-01-05</th>\n",
       "      <th>2015-01-06</th>\n",
       "      <th>2015-01-07</th>\n",
       "      <th>2015-01-08</th>\n",
       "      <th>2015-01-09</th>\n",
       "      <th>2015-01-12</th>\n",
       "      <th>2015-01-13</th>\n",
       "      <th>...</th>\n",
       "      <th>2015-12-18</th>\n",
       "      <th>2015-12-21</th>\n",
       "      <th>2015-12-22</th>\n",
       "      <th>2015-12-23</th>\n",
       "      <th>2015-12-24</th>\n",
       "      <th>2015-12-25</th>\n",
       "      <th>2015-12-28</th>\n",
       "      <th>2015-12-29</th>\n",
       "      <th>2015-12-30</th>\n",
       "      <th>2015-12-31</th>\n",
       "    </tr>\n",
       "  </thead>\n",
       "  <tbody>\n",
       "    <tr>\n",
       "      <th>0</th>\n",
       "      <td>1</td>\n",
       "      <td>NaN</td>\n",
       "      <td>2015-01-02 16:56:15</td>\n",
       "      <td>2015-01-05 17:20:11</td>\n",
       "      <td>2015-01-06 17:19:05</td>\n",
       "      <td>2015-01-07 16:34:55</td>\n",
       "      <td>2015-01-08 17:08:32</td>\n",
       "      <td>2015-01-09 17:38:29</td>\n",
       "      <td>2015-01-12 16:58:39</td>\n",
       "      <td>2015-01-13 18:02:58</td>\n",
       "      <td>...</td>\n",
       "      <td>NaN</td>\n",
       "      <td>2015-12-21 17:15:50</td>\n",
       "      <td>2015-12-22 17:27:51</td>\n",
       "      <td>2015-12-23 16:44:44</td>\n",
       "      <td>2015-12-24 17:47:22</td>\n",
       "      <td>NaN</td>\n",
       "      <td>2015-12-28 18:00:07</td>\n",
       "      <td>2015-12-29 17:22:30</td>\n",
       "      <td>2015-12-30 17:40:56</td>\n",
       "      <td>2015-12-31 17:17:33</td>\n",
       "    </tr>\n",
       "    <tr>\n",
       "      <th>1</th>\n",
       "      <td>2</td>\n",
       "      <td>NaN</td>\n",
       "      <td>2015-01-02 18:22:17</td>\n",
       "      <td>2015-01-05 17:48:22</td>\n",
       "      <td>NaN</td>\n",
       "      <td>2015-01-07 17:09:06</td>\n",
       "      <td>2015-01-08 17:34:04</td>\n",
       "      <td>2015-01-09 16:52:29</td>\n",
       "      <td>2015-01-12 17:36:48</td>\n",
       "      <td>2015-01-13 18:00:13</td>\n",
       "      <td>...</td>\n",
       "      <td>2015-12-18 18:31:28</td>\n",
       "      <td>2015-12-21 17:34:16</td>\n",
       "      <td>2015-12-22 18:16:35</td>\n",
       "      <td>2015-12-23 17:38:18</td>\n",
       "      <td>NaN</td>\n",
       "      <td>NaN</td>\n",
       "      <td>2015-12-28 17:08:38</td>\n",
       "      <td>2015-12-29 17:54:46</td>\n",
       "      <td>2015-12-30 18:31:35</td>\n",
       "      <td>2015-12-31 17:40:58</td>\n",
       "    </tr>\n",
       "    <tr>\n",
       "      <th>2</th>\n",
       "      <td>3</td>\n",
       "      <td>NaN</td>\n",
       "      <td>2015-01-02 16:59:14</td>\n",
       "      <td>2015-01-05 17:06:46</td>\n",
       "      <td>2015-01-06 16:38:32</td>\n",
       "      <td>2015-01-07 16:33:21</td>\n",
       "      <td>2015-01-08 17:24:22</td>\n",
       "      <td>2015-01-09 16:57:30</td>\n",
       "      <td>2015-01-12 17:28:54</td>\n",
       "      <td>2015-01-13 17:21:25</td>\n",
       "      <td>...</td>\n",
       "      <td>2015-12-18 17:02:23</td>\n",
       "      <td>2015-12-21 17:20:17</td>\n",
       "      <td>2015-12-22 16:32:50</td>\n",
       "      <td>2015-12-23 16:59:43</td>\n",
       "      <td>2015-12-24 16:58:25</td>\n",
       "      <td>NaN</td>\n",
       "      <td>2015-12-28 16:43:31</td>\n",
       "      <td>2015-12-29 17:09:56</td>\n",
       "      <td>2015-12-30 17:06:25</td>\n",
       "      <td>2015-12-31 17:15:50</td>\n",
       "    </tr>\n",
       "    <tr>\n",
       "      <th>3</th>\n",
       "      <td>4</td>\n",
       "      <td>NaN</td>\n",
       "      <td>2015-01-02 17:25:24</td>\n",
       "      <td>2015-01-05 17:14:03</td>\n",
       "      <td>2015-01-06 17:07:42</td>\n",
       "      <td>2015-01-07 16:32:40</td>\n",
       "      <td>2015-01-08 16:53:11</td>\n",
       "      <td>2015-01-09 17:19:47</td>\n",
       "      <td>2015-01-12 17:13:37</td>\n",
       "      <td>2015-01-13 17:11:45</td>\n",
       "      <td>...</td>\n",
       "      <td>2015-12-18 17:55:23</td>\n",
       "      <td>2015-12-21 16:49:09</td>\n",
       "      <td>2015-12-22 17:24:00</td>\n",
       "      <td>2015-12-23 17:36:35</td>\n",
       "      <td>2015-12-24 16:48:21</td>\n",
       "      <td>NaN</td>\n",
       "      <td>2015-12-28 17:19:34</td>\n",
       "      <td>2015-12-29 16:58:16</td>\n",
       "      <td>2015-12-30 17:40:11</td>\n",
       "      <td>2015-12-31 17:09:14</td>\n",
       "    </tr>\n",
       "    <tr>\n",
       "      <th>4</th>\n",
       "      <td>5</td>\n",
       "      <td>NaN</td>\n",
       "      <td>2015-01-02 18:31:37</td>\n",
       "      <td>2015-01-05 17:49:15</td>\n",
       "      <td>2015-01-06 17:26:25</td>\n",
       "      <td>2015-01-07 17:37:59</td>\n",
       "      <td>2015-01-08 17:59:28</td>\n",
       "      <td>2015-01-09 17:44:08</td>\n",
       "      <td>2015-01-12 18:51:21</td>\n",
       "      <td>2015-01-13 18:14:58</td>\n",
       "      <td>...</td>\n",
       "      <td>2015-12-18 17:52:48</td>\n",
       "      <td>2015-12-21 17:43:35</td>\n",
       "      <td>2015-12-22 18:07:57</td>\n",
       "      <td>2015-12-23 18:00:49</td>\n",
       "      <td>2015-12-24 17:59:22</td>\n",
       "      <td>NaN</td>\n",
       "      <td>2015-12-28 17:44:59</td>\n",
       "      <td>2015-12-29 18:47:00</td>\n",
       "      <td>2015-12-30 17:15:33</td>\n",
       "      <td>2015-12-31 17:42:14</td>\n",
       "    </tr>\n",
       "  </tbody>\n",
       "</table>\n",
       "<p>5 rows × 262 columns</p>\n",
       "</div>"
      ],
      "text/plain": [
       "   Unnamed: 0  2015-01-01           2015-01-02           2015-01-05  \\\n",
       "0           1         NaN  2015-01-02 16:56:15  2015-01-05 17:20:11   \n",
       "1           2         NaN  2015-01-02 18:22:17  2015-01-05 17:48:22   \n",
       "2           3         NaN  2015-01-02 16:59:14  2015-01-05 17:06:46   \n",
       "3           4         NaN  2015-01-02 17:25:24  2015-01-05 17:14:03   \n",
       "4           5         NaN  2015-01-02 18:31:37  2015-01-05 17:49:15   \n",
       "\n",
       "            2015-01-06           2015-01-07           2015-01-08  \\\n",
       "0  2015-01-06 17:19:05  2015-01-07 16:34:55  2015-01-08 17:08:32   \n",
       "1                  NaN  2015-01-07 17:09:06  2015-01-08 17:34:04   \n",
       "2  2015-01-06 16:38:32  2015-01-07 16:33:21  2015-01-08 17:24:22   \n",
       "3  2015-01-06 17:07:42  2015-01-07 16:32:40  2015-01-08 16:53:11   \n",
       "4  2015-01-06 17:26:25  2015-01-07 17:37:59  2015-01-08 17:59:28   \n",
       "\n",
       "            2015-01-09           2015-01-12           2015-01-13  ...  \\\n",
       "0  2015-01-09 17:38:29  2015-01-12 16:58:39  2015-01-13 18:02:58  ...   \n",
       "1  2015-01-09 16:52:29  2015-01-12 17:36:48  2015-01-13 18:00:13  ...   \n",
       "2  2015-01-09 16:57:30  2015-01-12 17:28:54  2015-01-13 17:21:25  ...   \n",
       "3  2015-01-09 17:19:47  2015-01-12 17:13:37  2015-01-13 17:11:45  ...   \n",
       "4  2015-01-09 17:44:08  2015-01-12 18:51:21  2015-01-13 18:14:58  ...   \n",
       "\n",
       "            2015-12-18           2015-12-21           2015-12-22  \\\n",
       "0                  NaN  2015-12-21 17:15:50  2015-12-22 17:27:51   \n",
       "1  2015-12-18 18:31:28  2015-12-21 17:34:16  2015-12-22 18:16:35   \n",
       "2  2015-12-18 17:02:23  2015-12-21 17:20:17  2015-12-22 16:32:50   \n",
       "3  2015-12-18 17:55:23  2015-12-21 16:49:09  2015-12-22 17:24:00   \n",
       "4  2015-12-18 17:52:48  2015-12-21 17:43:35  2015-12-22 18:07:57   \n",
       "\n",
       "            2015-12-23           2015-12-24 2015-12-25           2015-12-28  \\\n",
       "0  2015-12-23 16:44:44  2015-12-24 17:47:22        NaN  2015-12-28 18:00:07   \n",
       "1  2015-12-23 17:38:18                  NaN        NaN  2015-12-28 17:08:38   \n",
       "2  2015-12-23 16:59:43  2015-12-24 16:58:25        NaN  2015-12-28 16:43:31   \n",
       "3  2015-12-23 17:36:35  2015-12-24 16:48:21        NaN  2015-12-28 17:19:34   \n",
       "4  2015-12-23 18:00:49  2015-12-24 17:59:22        NaN  2015-12-28 17:44:59   \n",
       "\n",
       "            2015-12-29           2015-12-30           2015-12-31  \n",
       "0  2015-12-29 17:22:30  2015-12-30 17:40:56  2015-12-31 17:17:33  \n",
       "1  2015-12-29 17:54:46  2015-12-30 18:31:35  2015-12-31 17:40:58  \n",
       "2  2015-12-29 17:09:56  2015-12-30 17:06:25  2015-12-31 17:15:50  \n",
       "3  2015-12-29 16:58:16  2015-12-30 17:40:11  2015-12-31 17:09:14  \n",
       "4  2015-12-29 18:47:00  2015-12-30 17:15:33  2015-12-31 17:42:14  \n",
       "\n",
       "[5 rows x 262 columns]"
      ]
     },
     "execution_count": 176,
     "metadata": {},
     "output_type": "execute_result"
    }
   ],
   "source": [
    "out_time.head()"
   ]
  },
  {
   "cell_type": "markdown",
   "metadata": {},
   "source": [
    ">De eerste vijf rijen van out_time"
   ]
  },
  {
   "cell_type": "code",
   "execution_count": 177,
   "metadata": {},
   "outputs": [
    {
     "data": {
      "text/plain": [
       "(4410, 262)"
      ]
     },
     "execution_count": 177,
     "metadata": {},
     "output_type": "execute_result"
    }
   ],
   "source": [
    "out_time.shape"
   ]
  },
  {
   "cell_type": "markdown",
   "metadata": {},
   "source": [
    ">Omvang van out_time; 262 kolommen en 4410 rijen"
   ]
  },
  {
   "cell_type": "code",
   "execution_count": 178,
   "metadata": {},
   "outputs": [
    {
     "name": "stdout",
     "output_type": "stream",
     "text": [
      "<class 'pandas.core.frame.DataFrame'>\n",
      "RangeIndex: 4410 entries, 0 to 4409\n",
      "Columns: 262 entries, Unnamed: 0 to 2015-12-31\n",
      "dtypes: float64(12), int64(1), object(249)\n",
      "memory usage: 8.8+ MB\n"
     ]
    }
   ],
   "source": [
    "out_time.info()"
   ]
  },
  {
   "cell_type": "markdown",
   "metadata": {},
   "source": [
    ">Data types van out_time"
   ]
  },
  {
   "cell_type": "code",
   "execution_count": 179,
   "metadata": {},
   "outputs": [
    {
     "data": {
      "text/plain": [
       "Unnamed: 0       0\n",
       "2015-01-01    4410\n",
       "2015-01-02     209\n",
       "2015-01-05     206\n",
       "2015-01-06     228\n",
       "              ... \n",
       "2015-12-25    4410\n",
       "2015-12-28     234\n",
       "2015-12-29     230\n",
       "2015-12-30     265\n",
       "2015-12-31     213\n",
       "Length: 262, dtype: int64"
      ]
     },
     "execution_count": 179,
     "metadata": {},
     "output_type": "execute_result"
    }
   ],
   "source": [
    "out_time.isna().sum()"
   ]
  },
  {
   "cell_type": "markdown",
   "metadata": {},
   "source": [
    ">Missende waarden in out_time; wellicht ook verlof en verzuim?"
   ]
  },
  {
   "cell_type": "code",
   "execution_count": 180,
   "metadata": {},
   "outputs": [
    {
     "data": {
      "text/plain": [
       "0"
      ]
     },
     "execution_count": 180,
     "metadata": {},
     "output_type": "execute_result"
    }
   ],
   "source": [
    "out_time.duplicated().sum()"
   ]
  },
  {
   "cell_type": "markdown",
   "metadata": {},
   "source": [
    ">Geen redundante data in out_time"
   ]
  },
  {
   "cell_type": "markdown",
   "metadata": {},
   "source": [
    "# Data Preparation\n",
    "\n",
    "Kijken met wat voor soort categorische data we te maken hebben en welke overwegingen genomen moeten worden. Eerst worden de unieke waarden uit de kolommen per dataset gehaald en onderverdeeld in de nominale en ordinale categorieën. Daarna zal middels explorerende data-analyse (EDA) de relaties en patronen op het eerste gezicht gevisualiseerd worden. Tevens moet ook besloten worden wat met missende waarden gedaan worden; verwijderen of imputeren.\n",
    "\n",
    "## Belangrijke overwegingen\n",
    "\n",
    "1. De kloktijddata bevatten de unieke werknemers-ID in naamloze kolom; omzetten naar EmployeeID voor eventuele integratie\n",
    "2. Kloktijden omzetten naar datetime-objecten voor analyse\n",
    "3. Andere data omzetten naar andere data types om memory usage te verlagen, performance te verhogen en analyses voor te bereiden\n",
    "4. Missende waarden verwijderen of imputeren in pipeline"
   ]
  },
  {
   "cell_type": "markdown",
   "metadata": {},
   "source": [
    "## Unieke waarden van categorische data"
   ]
  },
  {
   "cell_type": "markdown",
   "metadata": {},
   "source": [
    "### dataframe"
   ]
  },
  {
   "cell_type": "code",
   "execution_count": 181,
   "metadata": {},
   "outputs": [
    {
     "name": "stdout",
     "output_type": "stream",
     "text": [
      "Column: Attrition\n",
      "Unique values: ['No' 'Yes']\n",
      "\n",
      "Column: BusinessTravel\n",
      "Unique values: ['Travel_Rarely' 'Travel_Frequently' 'Non-Travel']\n",
      "\n",
      "Column: Department\n",
      "Unique values: ['Sales' 'Research & Development' 'Human Resources']\n",
      "\n",
      "Column: EducationField\n",
      "Unique values: ['Life Sciences' 'Other' 'Medical' 'Marketing' 'Technical Degree'\n",
      " 'Human Resources']\n",
      "\n",
      "Column: Gender\n",
      "Unique values: ['Female' 'Male']\n",
      "\n",
      "Column: JobRole\n",
      "Unique values: ['Healthcare Representative' 'Research Scientist' 'Sales Executive'\n",
      " 'Human Resources' 'Research Director' 'Laboratory Technician'\n",
      " 'Manufacturing Director' 'Sales Representative' 'Manager']\n",
      "\n",
      "Column: MaritalStatus\n",
      "Unique values: ['Married' 'Single' 'Divorced']\n",
      "\n",
      "Column: Over18\n",
      "Unique values: ['Y']\n",
      "\n"
     ]
    }
   ],
   "source": [
    "# Unieke waarden van categorische data\n",
    "for column in data.select_dtypes(include='object').columns:         # Selecteer alle kolommen met object data type\n",
    "    unique_values = data[column].unique()                           # Selecteer alle unieke waarden van de kolom\n",
    "    print(                                                          # Print de kolomnaam en unieke waarden\n",
    "        f\"Column: {column}\\nUnique values: {unique_values}\\n\"\n",
    "        )"
   ]
  },
  {
   "cell_type": "markdown",
   "metadata": {},
   "source": [
    "### Zijn er werknemers onder de 18?"
   ]
  },
  {
   "cell_type": "code",
   "execution_count": 182,
   "metadata": {},
   "outputs": [
    {
     "name": "stdout",
     "output_type": "stream",
     "text": [
      "Value: Y, Count: 4410, Percentage: 100.0%\n"
     ]
    }
   ],
   "source": [
    "# Variabelen voor for loop\n",
    "over18_counts = data['Over18'].value_counts()                               # Aantal werknemers boven de 18\n",
    "total_rows = len(data)                                                      # Totaal aantal rijen in de dataset\n",
    "\n",
    "# Print de waarden, aantal en percentage van werknemers boven de 18\n",
    "for value, count in over18_counts.items():                                  # Loop door de unieke waarden en aantallen\n",
    "    percentage = (count / total_rows) * 100                                 # Bereken het percentage\n",
    "    print(                                                                  # Print de waarden, aantal en percentage\n",
    "        f\"Value: {value}, Count: {count}, Percentage: {percentage}%\"\n",
    "        )"
   ]
  },
  {
   "cell_type": "markdown",
   "metadata": {},
   "source": [
    "> Nee, dus deze feature is irrelevant, want iedereen is boven de 18"
   ]
  },
  {
   "cell_type": "markdown",
   "metadata": {},
   "source": [
    "### dataframe subsetten zonder kolom Over18"
   ]
  },
  {
   "cell_type": "code",
   "execution_count": 183,
   "metadata": {},
   "outputs": [
    {
     "name": "stdout",
     "output_type": "stream",
     "text": [
      "Column: Attrition\n",
      "Unique values: ['No' 'Yes']\n",
      "\n",
      "Column: BusinessTravel\n",
      "Unique values: ['Travel_Rarely' 'Travel_Frequently' 'Non-Travel']\n",
      "\n",
      "Column: Department\n",
      "Unique values: ['Sales' 'Research & Development' 'Human Resources']\n",
      "\n",
      "Column: EducationField\n",
      "Unique values: ['Life Sciences' 'Other' 'Medical' 'Marketing' 'Technical Degree'\n",
      " 'Human Resources']\n",
      "\n",
      "Column: Gender\n",
      "Unique values: ['Female' 'Male']\n",
      "\n",
      "Column: JobRole\n",
      "Unique values: ['Healthcare Representative' 'Research Scientist' 'Sales Executive'\n",
      " 'Human Resources' 'Research Director' 'Laboratory Technician'\n",
      " 'Manufacturing Director' 'Sales Representative' 'Manager']\n",
      "\n",
      "Column: MaritalStatus\n",
      "Unique values: ['Married' 'Single' 'Divorced']\n",
      "\n"
     ]
    }
   ],
   "source": [
    "data_subset = data.drop(\"Over18\", axis=1)                                  # Verwijder de kolom Over18\n",
    "\n",
    "# Unieke waarden van categorische data\n",
    "for column in data_subset.select_dtypes(include='object').columns:         # Selecteer alle kolommen met object data type\n",
    "    unique_values = data_subset[column].unique()                           # Selecteer alle unieke waarden van de kolom\n",
    "    print(                                                                 # Print de kolomnaam en unieke waarden\n",
    "        f\"Column: {column}\\nUnique values: {unique_values}\\n\"\n",
    "        )"
   ]
  },
  {
   "cell_type": "markdown",
   "metadata": {},
   "source": [
    "### Floats omzetten naar ints"
   ]
  },
  {
   "cell_type": "code",
   "execution_count": 184,
   "metadata": {},
   "outputs": [
    {
     "name": "stdout",
     "output_type": "stream",
     "text": [
      "Column: NumCompaniesWorked\n",
      "[ 1.  0.  3.  4.  2.  7.  9.  5.  6.  8. nan]\n",
      "\n",
      "Column: TotalWorkingYears\n",
      "[ 1.  6.  5. 13.  9. 28. 10. 21. 16. 37.  7.  3. 15.  8. nan 12. 17. 19.\n",
      " 22.  2.  4. 23.  0. 11. 24. 25. 20. 14. 26. 18. 30. 36. 31. 33. 32. 34.\n",
      " 40. 29. 35. 27. 38.]\n",
      "\n",
      "Column: EnvironmentSatisfaction\n",
      "[ 3.  2.  4.  1. nan]\n",
      "\n",
      "Column: JobSatisfaction\n",
      "[ 4.  2.  1.  3. nan]\n",
      "\n",
      "Column: WorkLifeBalance\n",
      "[ 2.  4.  1.  3. nan]\n",
      "\n"
     ]
    }
   ],
   "source": [
    "# Unieke waarden van float data\n",
    "data_floats = [column for column in data.columns if data[column].dtype == 'float64']\n",
    "\n",
    "for column in data_subset[data_floats].columns:\n",
    "    print(f\"Column: {column}\\n{data_subset[column].unique()}\\n\")"
   ]
  },
  {
   "cell_type": "code",
   "execution_count": 185,
   "metadata": {},
   "outputs": [
    {
     "name": "stdout",
     "output_type": "stream",
     "text": [
      "<class 'pandas.core.frame.DataFrame'>\n",
      "RangeIndex: 4410 entries, 0 to 4409\n",
      "Data columns (total 28 columns):\n",
      " #   Column                   Non-Null Count  Dtype \n",
      "---  ------                   --------------  ----- \n",
      " 0   Age                      4410 non-null   int64 \n",
      " 1   Attrition                4410 non-null   object\n",
      " 2   BusinessTravel           4410 non-null   object\n",
      " 3   Department               4410 non-null   object\n",
      " 4   DistanceFromHome         4410 non-null   int64 \n",
      " 5   Education                4410 non-null   int64 \n",
      " 6   EducationField           4410 non-null   object\n",
      " 7   EmployeeCount            4410 non-null   int64 \n",
      " 8   EmployeeID               4410 non-null   int64 \n",
      " 9   Gender                   4410 non-null   object\n",
      " 10  JobLevel                 4410 non-null   int64 \n",
      " 11  JobRole                  4410 non-null   object\n",
      " 12  MaritalStatus            4410 non-null   object\n",
      " 13  MonthlyIncome            4410 non-null   int64 \n",
      " 14  NumCompaniesWorked       4391 non-null   Int64 \n",
      " 15  PercentSalaryHike        4410 non-null   int64 \n",
      " 16  StandardHours            4410 non-null   int64 \n",
      " 17  StockOptionLevel         4410 non-null   int64 \n",
      " 18  TotalWorkingYears        4401 non-null   Int64 \n",
      " 19  TrainingTimesLastYear    4410 non-null   int64 \n",
      " 20  YearsAtCompany           4410 non-null   int64 \n",
      " 21  YearsSinceLastPromotion  4410 non-null   int64 \n",
      " 22  YearsWithCurrManager     4410 non-null   int64 \n",
      " 23  EnvironmentSatisfaction  4385 non-null   Int64 \n",
      " 24  JobSatisfaction          4390 non-null   Int64 \n",
      " 25  WorkLifeBalance          4372 non-null   Int64 \n",
      " 26  JobInvolvement           4410 non-null   int64 \n",
      " 27  PerformanceRating        4410 non-null   int64 \n",
      "dtypes: Int64(5), int64(16), object(7)\n",
      "memory usage: 986.3+ KB\n"
     ]
    }
   ],
   "source": [
    "# Float data naar integer data\n",
    "data_subset[data_floats] = data_subset[data_floats].astype('Int64')\n",
    "\n",
    "# Resultaat\n",
    "data_subset.info()"
   ]
  },
  {
   "cell_type": "markdown",
   "metadata": {},
   "source": [
    "### Kopieren van dataset voor nummeriek en category"
   ]
  },
  {
   "cell_type": "code",
   "execution_count": 186,
   "metadata": {},
   "outputs": [],
   "source": [
    "# Kopie van de dataset\n",
    "data_subset_cat = data_subset.copy()\n",
    "data_subset_num = data_subset.copy()"
   ]
  },
  {
   "cell_type": "markdown",
   "metadata": {},
   "source": [
    "### Kolommen met object dtype omzetten naar category voor nominale data"
   ]
  },
  {
   "cell_type": "code",
   "execution_count": 187,
   "metadata": {},
   "outputs": [
    {
     "name": "stdout",
     "output_type": "stream",
     "text": [
      "Column: Attrition\n",
      "Unique values: ['No', 'Yes']\n",
      "Categories (2, object): ['No', 'Yes']\n",
      "\n",
      "Column: BusinessTravel\n",
      "Unique values: ['Travel_Rarely', 'Travel_Frequently', 'Non-Travel']\n",
      "Categories (3, object): ['Non-Travel', 'Travel_Frequently', 'Travel_Rarely']\n",
      "\n",
      "Column: Department\n",
      "Unique values: ['Sales', 'Research & Development', 'Human Resources']\n",
      "Categories (3, object): ['Human Resources', 'Research & Development', 'Sales']\n",
      "\n",
      "Column: EducationField\n",
      "Unique values: ['Life Sciences', 'Other', 'Medical', 'Marketing', 'Technical Degree', 'Human Resources']\n",
      "Categories (6, object): ['Human Resources', 'Life Sciences', 'Marketing', 'Medical', 'Other', 'Technical Degree']\n",
      "\n",
      "Column: Gender\n",
      "Unique values: ['Female', 'Male']\n",
      "Categories (2, object): ['Female', 'Male']\n",
      "\n",
      "Column: JobRole\n",
      "Unique values: ['Healthcare Representative', 'Research Scientist', 'Sales Executive', 'Human Resources', 'Research Director', 'Laboratory Technician', 'Manufacturing Director', 'Sales Representative', 'Manager']\n",
      "Categories (9, object): ['Healthcare Representative', 'Human Resources', 'Laboratory Technician', 'Manager', ..., 'Research Director', 'Research Scientist', 'Sales Executive', 'Sales Representative']\n",
      "\n",
      "Column: MaritalStatus\n",
      "Unique values: ['Married', 'Single', 'Divorced']\n",
      "Categories (3, object): ['Divorced', 'Married', 'Single']\n",
      "\n"
     ]
    }
   ],
   "source": [
    "# Selecteer alle kolommen met dtype object\n",
    "object_columns = data_subset_cat.select_dtypes(include='object').columns\n",
    "\n",
    "# Omzetten naar dtype category\n",
    "data_subset_cat[object_columns] = data_subset_cat[object_columns].astype('category')\n",
    "\n",
    "# Unieke waarden van categorische data\n",
    "for column in data_subset_cat.select_dtypes(include='category').columns:       # Selecteer alle kolommen met category dtype\n",
    "    unique_values = data_subset_cat[column].unique()                           # Selecteer alle unieke waarden van de kolom\n",
    "    print(                                                                 # Print de kolomnaam en unieke waarden\n",
    "        f\"Column: {column}\\nUnique values: {unique_values}\\n\"\n",
    "        )"
   ]
  },
  {
   "cell_type": "markdown",
   "metadata": {},
   "source": [
    "### Mapping voor nummeriek converteren naar string/category"
   ]
  },
  {
   "cell_type": "code",
   "execution_count": 188,
   "metadata": {},
   "outputs": [],
   "source": [
    "# Ordinale kolommen selecteren; deze kolommen hebben een logische volgorde\n",
    "ordinal_mapping = {\n",
    "    \"Education\": {\n",
    "        1: \"Below College\",\n",
    "        2: \"College\",\n",
    "        3: \"Bachelor\",\n",
    "        4: \"Master\",\n",
    "        5: \"Doctor\"\n",
    "        },\n",
    "    \"EnvironmentSatisfaction\": {\n",
    "        1: \"Low\",\n",
    "        2: \"Medium\",\n",
    "        3: \"High\",\n",
    "        4: \"Very High\"\n",
    "        },\n",
    "    \"JobInvolvement\": {\n",
    "        1: \"Low\",\n",
    "        2: \"Medium\",\n",
    "        3: \"High\",\n",
    "        4: \"Very High\"\n",
    "        },\n",
    "    \"JobLevel\": {\n",
    "        1: \"Entry\",\n",
    "        2: \"Mid\",\n",
    "        3: \"Senior\",\n",
    "        4: \"Manager\",\n",
    "        5: \"Director\"\n",
    "        },\n",
    "    \"JobSatisfaction\": {\n",
    "        1: \"Low\",\n",
    "        2: \"Medium\",\n",
    "        3: \"High\",\n",
    "        4: \"Very High\"\n",
    "        },\n",
    "    \"PerformanceRating\": {\n",
    "        1: \"Low\",\n",
    "        2: \"Good\",\n",
    "        3: \"Excellent\",\n",
    "        4: \"Outstanding\"\n",
    "        },\n",
    "    \"StockOptionLevel\": {\n",
    "        0: \"Low\",\n",
    "        1: \"Medium\",\n",
    "        2: \"High\",\n",
    "        3: \"Very High\"\n",
    "        },\n",
    "    \"WorkLifeBalance\": {\n",
    "        1: \"Bad\",\n",
    "        2: \"Good\",\n",
    "        3: \"Better\",\n",
    "        4: \"Best\"\n",
    "        }\n",
    "    }"
   ]
  },
  {
   "cell_type": "markdown",
   "metadata": {},
   "source": [
    "### Ordinale data kolommen omzetten naar dtype object voor remappen"
   ]
  },
  {
   "cell_type": "code",
   "execution_count": 189,
   "metadata": {},
   "outputs": [
    {
     "name": "stdout",
     "output_type": "stream",
     "text": [
      "Education                  object\n",
      "JobLevel                   object\n",
      "StockOptionLevel           object\n",
      "EnvironmentSatisfaction    object\n",
      "JobSatisfaction            object\n",
      "WorkLifeBalance            object\n",
      "JobInvolvement             object\n",
      "PerformanceRating          object\n",
      "dtype: object\n"
     ]
    }
   ],
   "source": [
    "# Dictionary keys gebruiken om de kolommen te selecteren\n",
    "for column in ordinal_mapping.keys():\n",
    "    if column in data_subset_cat.columns:                                   # Controleer of de kolom bestaat in de DataFrame\n",
    "        data_subset_cat[column] = data_subset_cat[column].astype('object')  # Omzetten naar het datatype 'object'\n",
    "\n",
    "# Controleer de resultaten\n",
    "print(data_subset_cat.dtypes[data_subset_cat.dtypes == 'object'])"
   ]
  },
  {
   "cell_type": "markdown",
   "metadata": {},
   "source": [
    "### Remappen van waarden"
   ]
  },
  {
   "cell_type": "code",
   "execution_count": 190,
   "metadata": {},
   "outputs": [
    {
     "data": {
      "text/html": [
       "<div>\n",
       "<style scoped>\n",
       "    .dataframe tbody tr th:only-of-type {\n",
       "        vertical-align: middle;\n",
       "    }\n",
       "\n",
       "    .dataframe tbody tr th {\n",
       "        vertical-align: top;\n",
       "    }\n",
       "\n",
       "    .dataframe thead th {\n",
       "        text-align: right;\n",
       "    }\n",
       "</style>\n",
       "<table border=\"1\" class=\"dataframe\">\n",
       "  <thead>\n",
       "    <tr style=\"text-align: right;\">\n",
       "      <th></th>\n",
       "      <th>Age</th>\n",
       "      <th>Attrition</th>\n",
       "      <th>BusinessTravel</th>\n",
       "      <th>Department</th>\n",
       "      <th>DistanceFromHome</th>\n",
       "      <th>Education</th>\n",
       "      <th>EducationField</th>\n",
       "      <th>EmployeeCount</th>\n",
       "      <th>EmployeeID</th>\n",
       "      <th>Gender</th>\n",
       "      <th>...</th>\n",
       "      <th>TotalWorkingYears</th>\n",
       "      <th>TrainingTimesLastYear</th>\n",
       "      <th>YearsAtCompany</th>\n",
       "      <th>YearsSinceLastPromotion</th>\n",
       "      <th>YearsWithCurrManager</th>\n",
       "      <th>EnvironmentSatisfaction</th>\n",
       "      <th>JobSatisfaction</th>\n",
       "      <th>WorkLifeBalance</th>\n",
       "      <th>JobInvolvement</th>\n",
       "      <th>PerformanceRating</th>\n",
       "    </tr>\n",
       "  </thead>\n",
       "  <tbody>\n",
       "    <tr>\n",
       "      <th>0</th>\n",
       "      <td>51</td>\n",
       "      <td>No</td>\n",
       "      <td>Travel_Rarely</td>\n",
       "      <td>Sales</td>\n",
       "      <td>6</td>\n",
       "      <td>College</td>\n",
       "      <td>Life Sciences</td>\n",
       "      <td>1</td>\n",
       "      <td>1</td>\n",
       "      <td>Female</td>\n",
       "      <td>...</td>\n",
       "      <td>1</td>\n",
       "      <td>6</td>\n",
       "      <td>1</td>\n",
       "      <td>0</td>\n",
       "      <td>0</td>\n",
       "      <td>High</td>\n",
       "      <td>Very High</td>\n",
       "      <td>Good</td>\n",
       "      <td>High</td>\n",
       "      <td>Excellent</td>\n",
       "    </tr>\n",
       "    <tr>\n",
       "      <th>1</th>\n",
       "      <td>31</td>\n",
       "      <td>Yes</td>\n",
       "      <td>Travel_Frequently</td>\n",
       "      <td>Research &amp; Development</td>\n",
       "      <td>10</td>\n",
       "      <td>Below College</td>\n",
       "      <td>Life Sciences</td>\n",
       "      <td>1</td>\n",
       "      <td>2</td>\n",
       "      <td>Female</td>\n",
       "      <td>...</td>\n",
       "      <td>6</td>\n",
       "      <td>3</td>\n",
       "      <td>5</td>\n",
       "      <td>1</td>\n",
       "      <td>4</td>\n",
       "      <td>High</td>\n",
       "      <td>Medium</td>\n",
       "      <td>Best</td>\n",
       "      <td>Medium</td>\n",
       "      <td>Outstanding</td>\n",
       "    </tr>\n",
       "    <tr>\n",
       "      <th>2</th>\n",
       "      <td>32</td>\n",
       "      <td>No</td>\n",
       "      <td>Travel_Frequently</td>\n",
       "      <td>Research &amp; Development</td>\n",
       "      <td>17</td>\n",
       "      <td>Master</td>\n",
       "      <td>Other</td>\n",
       "      <td>1</td>\n",
       "      <td>3</td>\n",
       "      <td>Male</td>\n",
       "      <td>...</td>\n",
       "      <td>5</td>\n",
       "      <td>2</td>\n",
       "      <td>5</td>\n",
       "      <td>0</td>\n",
       "      <td>3</td>\n",
       "      <td>Medium</td>\n",
       "      <td>Medium</td>\n",
       "      <td>Bad</td>\n",
       "      <td>High</td>\n",
       "      <td>Excellent</td>\n",
       "    </tr>\n",
       "    <tr>\n",
       "      <th>3</th>\n",
       "      <td>38</td>\n",
       "      <td>No</td>\n",
       "      <td>Non-Travel</td>\n",
       "      <td>Research &amp; Development</td>\n",
       "      <td>2</td>\n",
       "      <td>Doctor</td>\n",
       "      <td>Life Sciences</td>\n",
       "      <td>1</td>\n",
       "      <td>4</td>\n",
       "      <td>Male</td>\n",
       "      <td>...</td>\n",
       "      <td>13</td>\n",
       "      <td>5</td>\n",
       "      <td>8</td>\n",
       "      <td>7</td>\n",
       "      <td>5</td>\n",
       "      <td>Very High</td>\n",
       "      <td>Very High</td>\n",
       "      <td>Better</td>\n",
       "      <td>Medium</td>\n",
       "      <td>Excellent</td>\n",
       "    </tr>\n",
       "    <tr>\n",
       "      <th>4</th>\n",
       "      <td>32</td>\n",
       "      <td>No</td>\n",
       "      <td>Travel_Rarely</td>\n",
       "      <td>Research &amp; Development</td>\n",
       "      <td>10</td>\n",
       "      <td>Below College</td>\n",
       "      <td>Medical</td>\n",
       "      <td>1</td>\n",
       "      <td>5</td>\n",
       "      <td>Male</td>\n",
       "      <td>...</td>\n",
       "      <td>9</td>\n",
       "      <td>2</td>\n",
       "      <td>6</td>\n",
       "      <td>0</td>\n",
       "      <td>4</td>\n",
       "      <td>Very High</td>\n",
       "      <td>Low</td>\n",
       "      <td>Better</td>\n",
       "      <td>High</td>\n",
       "      <td>Excellent</td>\n",
       "    </tr>\n",
       "  </tbody>\n",
       "</table>\n",
       "<p>5 rows × 28 columns</p>\n",
       "</div>"
      ],
      "text/plain": [
       "   Age Attrition     BusinessTravel              Department  DistanceFromHome  \\\n",
       "0   51        No      Travel_Rarely                   Sales                 6   \n",
       "1   31       Yes  Travel_Frequently  Research & Development                10   \n",
       "2   32        No  Travel_Frequently  Research & Development                17   \n",
       "3   38        No         Non-Travel  Research & Development                 2   \n",
       "4   32        No      Travel_Rarely  Research & Development                10   \n",
       "\n",
       "       Education EducationField  EmployeeCount  EmployeeID  Gender  ...  \\\n",
       "0        College  Life Sciences              1           1  Female  ...   \n",
       "1  Below College  Life Sciences              1           2  Female  ...   \n",
       "2         Master          Other              1           3    Male  ...   \n",
       "3         Doctor  Life Sciences              1           4    Male  ...   \n",
       "4  Below College        Medical              1           5    Male  ...   \n",
       "\n",
       "  TotalWorkingYears TrainingTimesLastYear YearsAtCompany  \\\n",
       "0                 1                     6              1   \n",
       "1                 6                     3              5   \n",
       "2                 5                     2              5   \n",
       "3                13                     5              8   \n",
       "4                 9                     2              6   \n",
       "\n",
       "   YearsSinceLastPromotion  YearsWithCurrManager  EnvironmentSatisfaction  \\\n",
       "0                        0                     0                     High   \n",
       "1                        1                     4                     High   \n",
       "2                        0                     3                   Medium   \n",
       "3                        7                     5                Very High   \n",
       "4                        0                     4                Very High   \n",
       "\n",
       "   JobSatisfaction WorkLifeBalance  JobInvolvement  PerformanceRating  \n",
       "0        Very High            Good            High          Excellent  \n",
       "1           Medium            Best          Medium        Outstanding  \n",
       "2           Medium             Bad            High          Excellent  \n",
       "3        Very High          Better          Medium          Excellent  \n",
       "4              Low          Better            High          Excellent  \n",
       "\n",
       "[5 rows x 28 columns]"
      ]
     },
     "execution_count": 190,
     "metadata": {},
     "output_type": "execute_result"
    }
   ],
   "source": [
    "# Mapping toepassen op de kolommen\n",
    "for column, mapping in ordinal_mapping.items():\n",
    "    if column in data_subset_cat.columns:                                                               # Controleer of de kolom bestaat in de DataFrame\n",
    "        data_subset_cat[column] = data_subset_cat[column].map(mapping).fillna(data_subset_cat[column])  # Mapping toepassen\n",
    "\n",
    "# Controleer de resultaten\n",
    "data_subset_cat.head()"
   ]
  },
  {
   "cell_type": "markdown",
   "metadata": {},
   "source": [
    "### Ordinale category dtype dataset"
   ]
  },
  {
   "cell_type": "code",
   "execution_count": 191,
   "metadata": {},
   "outputs": [
    {
     "data": {
      "text/plain": [
       "Age                           int64\n",
       "Attrition                  category\n",
       "BusinessTravel             category\n",
       "Department                 category\n",
       "DistanceFromHome              int64\n",
       "Education                  category\n",
       "EducationField             category\n",
       "EmployeeCount                 int64\n",
       "EmployeeID                    int64\n",
       "Gender                     category\n",
       "JobLevel                   category\n",
       "JobRole                    category\n",
       "MaritalStatus              category\n",
       "MonthlyIncome                 int64\n",
       "NumCompaniesWorked            Int64\n",
       "PercentSalaryHike             int64\n",
       "StandardHours                 int64\n",
       "StockOptionLevel           category\n",
       "TotalWorkingYears             Int64\n",
       "TrainingTimesLastYear         int64\n",
       "YearsAtCompany                int64\n",
       "YearsSinceLastPromotion       int64\n",
       "YearsWithCurrManager          int64\n",
       "EnvironmentSatisfaction    category\n",
       "JobSatisfaction            category\n",
       "WorkLifeBalance            category\n",
       "JobInvolvement             category\n",
       "PerformanceRating          category\n",
       "dtype: object"
      ]
     },
     "execution_count": 191,
     "metadata": {},
     "output_type": "execute_result"
    }
   ],
   "source": [
    "# Dictionary keys gebruiken om de kolommen te selecteren\n",
    "for column, mapping in ordinal_mapping.items():\n",
    "    ordered_labels = [label for key, label in sorted(mapping.items())]      # Sorteer de labels\n",
    "    cat_type = CategoricalDtype(categories=ordered_labels, ordered=True)    # Maak een CategoricalDtype object\n",
    "    data_subset_cat[column] = data_subset_cat[column].astype(cat_type)      # Omzetten naar het CategoricalDtype object\n",
    "\n",
    "# Controleer de resultaten\n",
    "data_subset_cat.dtypes"
   ]
  },
  {
   "cell_type": "markdown",
   "metadata": {},
   "source": [
    "### Nummerieke dataset waarop label encoding toegepast kan worden voor object dtypes"
   ]
  },
  {
   "cell_type": "code",
   "execution_count": 196,
   "metadata": {},
   "outputs": [
    {
     "data": {
      "text/plain": [
       "Age                         int64\n",
       "Attrition                  object\n",
       "BusinessTravel             object\n",
       "Department                 object\n",
       "DistanceFromHome            int64\n",
       "Education                   int64\n",
       "EducationField             object\n",
       "EmployeeCount               int64\n",
       "EmployeeID                  int64\n",
       "Gender                     object\n",
       "JobLevel                    int64\n",
       "JobRole                    object\n",
       "MaritalStatus              object\n",
       "MonthlyIncome               int64\n",
       "NumCompaniesWorked          Int64\n",
       "PercentSalaryHike           int64\n",
       "StandardHours               int64\n",
       "StockOptionLevel            int64\n",
       "TotalWorkingYears           Int64\n",
       "TrainingTimesLastYear       int64\n",
       "YearsAtCompany              int64\n",
       "YearsSinceLastPromotion     int64\n",
       "YearsWithCurrManager        int64\n",
       "EnvironmentSatisfaction     Int64\n",
       "JobSatisfaction             Int64\n",
       "WorkLifeBalance             Int64\n",
       "JobInvolvement              int64\n",
       "PerformanceRating           int64\n",
       "dtype: object"
      ]
     },
     "execution_count": 196,
     "metadata": {},
     "output_type": "execute_result"
    }
   ],
   "source": [
    "data_subset_num.dtypes"
   ]
  },
  {
   "cell_type": "markdown",
   "metadata": {},
   "source": [
    "## Kloktijddata prepareren\n",
    "\n",
    "### Indexen naar kolom zetten met dezelfde naamconventie"
   ]
  },
  {
   "cell_type": "code",
   "execution_count": 192,
   "metadata": {},
   "outputs": [],
   "source": [
    "# Kolomnamen aanpassen van kloktijden indexen\n",
    "in_time.rename(                                     # Hernoemen van de kolomnaam\n",
    "    columns={                                       # Dictionary met oude en nieuwe kolomnaam\n",
    "        in_time.columns[0]: 'EmployeeID'            # Oude en nieuwe kolomnaam\n",
    "        },\n",
    "    inplace=True                                    # Hernoemen van kolomnaam\n",
    "    )\n",
    "\n",
    "out_time.rename(                                    # Hernoemen van de kolomnaam\n",
    "    columns={                                       # Dictionary met oude en nieuwe kolomnaam\n",
    "        out_time.columns[0]: 'EmployeeID'           # Oude en nieuwe kolomnaam\n",
    "        },\n",
    "    inplace=True                                    # Hernoemen van kolomnaam\n",
    "    )"
   ]
  },
  {
   "cell_type": "markdown",
   "metadata": {},
   "source": [
    "### Datatypes wijzigen naar datetime objecten"
   ]
  },
  {
   "cell_type": "code",
   "execution_count": 193,
   "metadata": {},
   "outputs": [],
   "source": [
    "# Kloktijden omzetten naar datetime\n",
    "for column in in_time.columns:                      # Loop over de kolommen van de in_time dataframe\n",
    "    if column != 'EmployeeID':                      # Als de kolom niet 'EmployeeID' is\n",
    "        in_time[column] = pd.to_datetime(           # Zet de kolom om naar datetime\n",
    "            in_time[column],                        # De kolom die omgezet moet worden van de loop-variable\n",
    "            format='%Y-%m-%d %H:%M:%S'              # Het format van datetime\n",
    "            )\n",
    "\n",
    "for column in out_time.columns:                     # Loop over de kolommen van de out_time dataframe\n",
    "    if column != 'EmployeeID':                      # Als de kolom niet 'EmployeeID' is\n",
    "        out_time[column] = pd.to_datetime(          # Zet de kolom om naar datetime\n",
    "            out_time[column],                       # De kolom die omgezet moet worden van de loop-variable\n",
    "            format='%Y-%m-%d %H:%M:%S'              # Het format van datetime\n",
    "            )"
   ]
  },
  {
   "cell_type": "code",
   "execution_count": 201,
   "metadata": {},
   "outputs": [
    {
     "name": "stdout",
     "output_type": "stream",
     "text": [
      "<class 'pandas.core.frame.DataFrame'>\n",
      "RangeIndex: 4410 entries, 0 to 4409\n",
      "Columns: 262 entries, EmployeeID to 2015-12-31\n",
      "dtypes: datetime64[ns](261), int64(1)\n",
      "memory usage: 8.8 MB\n"
     ]
    }
   ],
   "source": [
    "in_time.info()"
   ]
  },
  {
   "cell_type": "code",
   "execution_count": 195,
   "metadata": {},
   "outputs": [
    {
     "name": "stdout",
     "output_type": "stream",
     "text": [
      "<class 'pandas.core.frame.DataFrame'>\n",
      "RangeIndex: 4410 entries, 0 to 4409\n",
      "Columns: 262 entries, EmployeeID to 2015-12-31\n",
      "dtypes: datetime64[ns](261), int64(1)\n",
      "memory usage: 8.8 MB\n"
     ]
    }
   ],
   "source": [
    "out_time.info()"
   ]
  },
  {
   "cell_type": "markdown",
   "metadata": {},
   "source": [
    "# Exploratory Data Analysis (EDA)"
   ]
  },
  {
   "cell_type": "code",
   "execution_count": 204,
   "metadata": {},
   "outputs": [
    {
     "data": {
      "text/plain": [
       "Attrition\n",
       "No     3699\n",
       "Yes     711\n",
       "Name: count, dtype: int64"
      ]
     },
     "execution_count": 204,
     "metadata": {},
     "output_type": "execute_result"
    }
   ],
   "source": [
    "# Telling van Attrition\n",
    "data_subset_cat['Attrition'].value_counts()"
   ]
  },
  {
   "cell_type": "code",
   "execution_count": 207,
   "metadata": {},
   "outputs": [
    {
     "name": "stderr",
     "output_type": "stream",
     "text": [
      "c:\\ProgramData\\anaconda3\\Lib\\site-packages\\seaborn\\categorical.py:641: FutureWarning: The default of observed=False is deprecated and will be changed to True in a future version of pandas. Pass observed=False to retain current behavior or observed=True to adopt the future default and silence this warning.\n",
      "  grouped_vals = vals.groupby(grouper)\n"
     ]
    },
    {
     "data": {
      "image/png": "[encoded data removed]",
      "text/plain": [
       "<Figure size 500x400 with 1 Axes>"
      ]
     },
     "metadata": {},
     "output_type": "display_data"
    }
   ],
   "source": [
    "plt.figure(\n",
    "    figsize=(5,4)\n",
    "    )\n",
    "\n",
    "sns.countplot(\n",
    "    data=data_subset_cat,\n",
    "    x=data_subset_cat[\"Attrition\"],\n",
    "    color=\"red\"\n",
    "    )\n",
    "\n",
    "plt.show()"
   ]
  },
  {
   "cell_type": "code",
   "execution_count": 206,
   "metadata": {},
   "outputs": [
    {
     "data": {
      "text/plain": [
       "Education\n",
       "Bachelor         1716\n",
       "Master           1194\n",
       "College           846\n",
       "Below College     510\n",
       "Doctor            144\n",
       "Name: count, dtype: int64"
      ]
     },
     "execution_count": 206,
     "metadata": {},
     "output_type": "execute_result"
    }
   ],
   "source": [
    "data_subset_cat[\"Education\"].value_counts()"
   ]
  },
  {
   "cell_type": "code",
   "execution_count": 210,
   "metadata": {},
   "outputs": [
    {
     "name": "stderr",
     "output_type": "stream",
     "text": [
      "c:\\ProgramData\\anaconda3\\Lib\\site-packages\\seaborn\\categorical.py:641: FutureWarning: The default of observed=False is deprecated and will be changed to True in a future version of pandas. Pass observed=False to retain current behavior or observed=True to adopt the future default and silence this warning.\n",
      "  grouped_vals = vals.groupby(grouper)\n"
     ]
    },
    {
     "data": {
      "text/plain": [
       "<Axes: xlabel='Education', ylabel='count'>"
      ]
     },
     "execution_count": 210,
     "metadata": {},
     "output_type": "execute_result"
    },
    {
     "data": {
      "image/png": "[encoded data removed]",
      "text/plain": [
       "<Figure size 640x480 with 1 Axes>"
      ]
     },
     "metadata": {},
     "output_type": "display_data"
    }
   ],
   "source": [
    "sns.countplot(\n",
    "    data=data_subset_cat,\n",
    "    x= data_subset_cat[\"Education\"],\n",
    "    hue=\"Attrition\",\n",
    "    color=\"red\"\n",
    "    )"
   ]
  },
  {
   "cell_type": "markdown",
   "metadata": {},
   "source": [
    "> Op het eerste gezicht lijkt het dat de meeste werknemers bij de organisatie blijven"
   ]
  },
  {
   "cell_type": "code",
   "execution_count": 211,
   "metadata": {},
   "outputs": [
    {
     "data": {
      "text/plain": [
       "Gender\n",
       "Male      2646\n",
       "Female    1764\n",
       "Name: count, dtype: int64"
      ]
     },
     "execution_count": 211,
     "metadata": {},
     "output_type": "execute_result"
    }
   ],
   "source": [
    "data_subset_cat[\"Gender\"].value_counts()"
   ]
  },
  {
   "cell_type": "code",
   "execution_count": 212,
   "metadata": {},
   "outputs": [
    {
     "name": "stderr",
     "output_type": "stream",
     "text": [
      "c:\\ProgramData\\anaconda3\\Lib\\site-packages\\seaborn\\categorical.py:641: FutureWarning: The default of observed=False is deprecated and will be changed to True in a future version of pandas. Pass observed=False to retain current behavior or observed=True to adopt the future default and silence this warning.\n",
      "  grouped_vals = vals.groupby(grouper)\n"
     ]
    },
    {
     "data": {
      "text/plain": [
       "<Axes: xlabel='Gender', ylabel='count'>"
      ]
     },
     "execution_count": 212,
     "metadata": {},
     "output_type": "execute_result"
    },
    {
     "data": {
      "image/png": "[encoded data removed]",
      "text/plain": [
       "<Figure size 640x480 with 1 Axes>"
      ]
     },
     "metadata": {},
     "output_type": "display_data"
    }
   ],
   "source": [
    "sns.countplot(\n",
    "    data=data_subset_cat,\n",
    "    x= data_subset_cat[\"Gender\"],\n",
    "    hue=\"Attrition\",\n",
    "    color=\"blue\"\n",
    "    )"
   ]
  },
  {
   "cell_type": "code",
   "execution_count": null,
   "metadata": {},
   "outputs": [],
   "source": []
  }
 ],
 "metadata": {
  "kernelspec": {
   "display_name": "Python 3",
   "language": "python",
   "name": "python3"
  },
  "language_info": {
   "codemirror_mode": {
    "name": "ipython",
    "version": 3
   },
   "file_extension": ".py",
   "mimetype": "text/x-python",
   "name": "python",
   "nbconvert_exporter": "python",
   "pygments_lexer": "ipython3",
   "version": "3.11.7"
  }
 },
 "nbformat": 4,
 "nbformat_minor": 2
}
